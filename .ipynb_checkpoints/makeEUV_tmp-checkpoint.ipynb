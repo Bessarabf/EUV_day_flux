{
 "cells": [
  {
   "cell_type": "markdown",
   "metadata": {},
   "source": [
    "### Open and read file with solar flux data"
   ]
  },
  {
   "cell_type": "code",
   "execution_count": 353,
   "metadata": {
    "collapsed": false
   },
   "outputs": [
    {
     "name": "stdout",
     "output_type": "stream",
     "text": [
      "Populating the interactive namespace from numpy and matplotlib\n"
     ]
    }
   ],
   "source": [
    "import numpy\n",
    "import matplotlib\n",
    "%pylab inline"
   ]
  },
  {
   "cell_type": "code",
   "execution_count": 354,
   "metadata": {
    "collapsed": false
   },
   "outputs": [
    {
     "name": "stdout",
     "output_type": "stream",
     "text": [
      "200\n"
     ]
    }
   ],
   "source": [
    "#open file\n",
    "doy=250\n",
    "fname=\"tam_euv.dat\"\n",
    "# flux in energy\n",
    "euvDAY=loadtxt(fname)\n",
    "nD=len(euvDAY[:,0])\n",
    "print nD\n",
    "euv=zeros(nD)\n",
    "euvPHD=zeros(nD) # flux in phot\n",
    "tmp=zeros(nD)"
   ]
  },
  {
   "cell_type": "code",
   "execution_count": null,
   "metadata": {
    "collapsed": false
   },
   "outputs": [],
   "source": []
  },
  {
   "cell_type": "markdown",
   "metadata": {},
   "source": [
    "### Solar flux in photon\n",
    "$E_o=h\\nu = hc/\\lambda$ - photon energy  \n",
    "$I=E/{h\\nu}$ - photon flux"
   ]
  },
  {
   "cell_type": "code",
   "execution_count": 355,
   "metadata": {
    "collapsed": false
   },
   "outputs": [],
   "source": [
    "lam=arange(1,nD+1)\n",
    "hnu=zeros(nD)\n",
    "h = 6.626e-34 #  Plank constant Joul*s\n",
    "c=3.e8 # m/s \n",
    "hnu[:]=h*c/lam[:]*1.e9"
   ]
  },
  {
   "cell_type": "code",
   "execution_count": 356,
   "metadata": {
    "collapsed": false
   },
   "outputs": [
    {
     "name": "stdout",
     "output_type": "stream",
     "text": [
      "[ 0.  0.  0.  0.  0.  0.]\n"
     ]
    }
   ],
   "source": [
    "# solar flux in phot\n",
    "for i in range(nD):\n",
    "    euvPHD[i]=euvDAY[i,1]/hnu[i]*1.e-4*1.e-9 # norm on 10^9 for GSM\n",
    "print euvDAY[:6,1]"
   ]
  },
  {
   "cell_type": "code",
   "execution_count": 357,
   "metadata": {
    "collapsed": false
   },
   "outputs": [
    {
     "name": "stdout",
     "output_type": "stream",
     "text": [
      "[  1.   2.   3.   4.   5.   6.   7.   8.   9.  10.  11.  12.  13.  14.  15.\n",
      "  16.  17.  18.  19.  20.  21.  22.  23.  24.  25.  26.  27.  28.  29.  30.\n",
      "  31.  32.  33.  34.  35.  36.  37.] [   50.     100.     150.     200.     256.32   284.15   250.     303.31\n",
      "   303.78   300.     368.07   350.     400.     465.22   450.     500.\n",
      "   554.37   584.33   550.     609.76   629.73   600.     650.     703.36\n",
      "   700.     765.15   770.41   789.36   750.     800.     850.     900.\n",
      "   977.02   950.    1025.72  1031.91  1000.  ]\n"
     ]
    }
   ],
   "source": [
    "#read new spectr\n",
    "mSP=loadtxt('spectr.dat',skiprows=3)\n",
    "N=len(mSP[:,0])\n",
    "print mSP[:,0],mSP[:,1]"
   ]
  },
  {
   "cell_type": "markdown",
   "metadata": {},
   "source": [
    "### Standard spectr interval for EUV model (36 intervals)"
   ]
  },
  {
   "cell_type": "code",
   "execution_count": 358,
   "metadata": {
    "collapsed": false
   },
   "outputs": [
    {
     "name": "stdout",
     "output_type": "stream",
     "text": [
      "[   0   50  100  150  200  256  284  250  303  303  300  368  350  400  465\n",
      "  450  500  554  584  550  609  629  600  650  703  700  765  770  789  750\n",
      "  800  850  900  977  950 1025 1031 1000]\n"
     ]
    }
   ],
   "source": [
    "#low and high boundary intervals in angstrom\n",
    "lowB=zeros(N+1).astype(int)\n",
    "highB=zeros(N+1).astype(int)\n",
    "bon=zeros(N+1)\n",
    "highB[0]=50\n",
    "for i in range(1,N+1):\n",
    "    lowB[i]=int(mSP[i-1,1])\n",
    "    highB[i]=int(mSP[i-1,2])\n",
    "print lowB\n",
    "bon=(lowB+highB)*.5"
   ]
  },
  {
   "cell_type": "markdown",
   "metadata": {},
   "source": [
    "### Combine two spectral lines (303 A)"
   ]
  },
  {
   "cell_type": "code",
   "execution_count": 359,
   "metadata": {
    "collapsed": false
   },
   "outputs": [
    {
     "name": "stdout",
     "output_type": "stream",
     "text": [
      "[   0   50  100  150  200  256  284  250  303  300  368  350  400  465  450\n",
      "  500  554  584  550  609  629  600  650  703  700  765  770  789  750  800\n",
      "  850  900  977  950 1025 1031 1000 1000]\n",
      "[  50  100  150  200  250  256  284  300  303  350  368  400  450  465  500\n",
      "  550  554  584  600  609  629  650  700  703  750  765  770  789  800  850\n",
      "  900  950  977 1000 1025 1031 1050 1210]\n"
     ]
    }
   ],
   "source": [
    "lowB[8:-1]=lowB[9:]\n",
    "print lowB\n",
    "highB[8:-1]=highB[9:]\n",
    "# Last line - Laymann alpha\n",
    "lowB[N]=1210\n",
    "highB[N]=1210\n",
    "\n",
    "print highB"
   ]
  },
  {
   "cell_type": "code",
   "execution_count": 360,
   "metadata": {
    "collapsed": false,
    "scrolled": true
   },
   "outputs": [
    {
     "name": "stdout",
     "output_type": "stream",
     "text": [
      "0.244491397525 6.68817436362 0.956233021431\n"
     ]
    }
   ],
   "source": [
    "print (euvPHD[29]),(euvPHD[30]),(euvPHD[31])"
   ]
  },
  {
   "cell_type": "code",
   "execution_count": 361,
   "metadata": {
    "collapsed": false
   },
   "outputs": [
    {
     "name": "stdout",
     "output_type": "stream",
     "text": [
      "[ 5  6  8 10 13 16 17 19 20 23 25 26 27 32 34 35 37  0  0  0  0  0  0  0  0\n",
      "  0  0  0  0  0  0  0  0  0  0  0  0  0] [ 256  284  303  368  465  554  584  609  629  703  765  770  789  977 1025\n",
      " 1031]\n"
     ]
    }
   ],
   "source": [
    "euvLine=zeros(N+1)\n",
    "euvLOW=zeros(N+1)\n",
    "mNAN=zeros(N+1).astype(int)\n",
    "#cycle for lambda\n",
    "#search i where lowB=highB\n",
    "k=0\n",
    "for i in range(N+1):\n",
    "    if(lowB[i]==highB[i]):\n",
    "        mNAN[k]=i\n",
    "        k=k+1\n",
    "print mNAN,highB[mNAN[:16]]"
   ]
  },
  {
   "cell_type": "code",
   "execution_count": 362,
   "metadata": {
    "collapsed": false
   },
   "outputs": [
    {
     "name": "stdout",
     "output_type": "stream",
     "text": [
      "[  0.00000000e+00   0.00000000e+00   0.00000000e+00   0.00000000e+00\n",
      "   0.00000000e+00   0.00000000e+00   0.00000000e+00   0.00000000e+00\n",
      "   0.00000000e+00   4.58000000e-05   1.67000000e-05   1.37000000e-05\n",
      "   7.44000000e-06   6.86000000e-06   2.07000000e-05   1.63000000e-05\n",
      "   3.80000000e-05   1.59274000e-04   6.02000000e-05   6.07000000e-05\n",
      "   2.04000000e-05   1.47000000e-05   3.34000000e-05   1.79000000e-05\n",
      "   4.78000000e-05   7.35000000e-05   1.45000000e-05]\n"
     ]
    }
   ],
   "source": [
    "### Fill lines only (if highB=lowB)\n",
    "print euvDAY[:27,1]"
   ]
  },
  {
   "cell_type": "code",
   "execution_count": 363,
   "metadata": {
    "collapsed": false
   },
   "outputs": [
    {
     "name": "stdout",
     "output_type": "stream",
     "text": [
      "5 26 0 26 1.45e-05\n",
      "6 28 1 28 1.88e-05\n",
      "8 30 2 30 0.000428863\n",
      "10 37 3 37 1.08e-05\n",
      "13 47 4 47 4.84e-06\n",
      "16 55 5 55 1.72e-05\n",
      "17 58 6 58 2.58e-05\n",
      "19 61 7 61 7.1e-06\n",
      "20 63 8 63 7.58e-06\n",
      "23 70 9 70 9.52e-06\n",
      "25 77 10 77 1.37e-05\n"
     ]
    }
   ],
   "source": [
    "k=0\n",
    "i=int(mNAN[k])\n",
    "tmp[:]=euvDAY[:,1]\n",
    "for kh in range(0,nD):\n",
    "    #print int((highB[i]))\n",
    "    if(int((highB[i])/10.+0.5)==kh):\n",
    "        euvLine[i]=euvDAY[kh-1,1]\n",
    "        tmp[kh-1]=nan\n",
    "        k=k+1\n",
    "        print i,int((highB[i])/10.+0.5),k-1,kh,euvDAY[kh,1]\n",
    "        i=int(mNAN[k])\n",
    "#print mNAN\n",
    "#print tmp[10:]\n",
    "        "
   ]
  },
  {
   "cell_type": "code",
   "execution_count": 364,
   "metadata": {
    "collapsed": false
   },
   "outputs": [
    {
     "name": "stdout",
     "output_type": "stream",
     "text": [
      "[  0.00000000e+00   0.00000000e+00   0.00000000e+00   0.00000000e+00\n",
      "   0.00000000e+00   7.35000000e-05   2.99000000e-05   0.00000000e+00\n",
      "   1.62000000e-05   0.00000000e+00   3.70000000e-05   0.00000000e+00\n",
      "   0.00000000e+00   1.22000000e-05   0.00000000e+00   0.00000000e+00\n",
      "   3.59000000e-06   4.29000000e-06   0.00000000e+00   1.68000000e-05\n",
      "   3.25000000e-05   0.00000000e+00   0.00000000e+00   3.03000000e-06\n",
      "   0.00000000e+00   1.89000000e-05   0.00000000e+00   0.00000000e+00\n",
      "   0.00000000e+00   0.00000000e+00   0.00000000e+00   0.00000000e+00\n",
      "   0.00000000e+00   0.00000000e+00   0.00000000e+00   0.00000000e+00\n",
      "   0.00000000e+00   0.00000000e+00]\n"
     ]
    }
   ],
   "source": [
    "print euvLine\n"
   ]
  },
  {
   "cell_type": "code",
   "execution_count": 365,
   "metadata": {
    "collapsed": false,
    "scrolled": false
   },
   "outputs": [
    {
     "name": "stdout",
     "output_type": "stream",
     "text": [
      "10 15 1 [  0.00000000e+00   0.00000000e+00   0.00000000e+00   4.58000000e-05\n",
      "   1.67000000e-05] 6.25e-05\n",
      "15 20 2 [  1.37000000e-05   7.44000000e-06   6.86000000e-06   2.07000000e-05\n",
      "   1.63000000e-05] 6.5e-05\n",
      "20 25 3 [  3.80000000e-05   1.59274000e-04   6.02000000e-05   6.07000000e-05\n",
      "   2.04000000e-05] 0.000338574\n",
      "25 30 4 [  1.47000000e-05   3.34000000e-05   1.79000000e-05   4.78000000e-05\n",
      "              nan] 0.0001138\n",
      "30 35 7 [  1.45000000e-05              nan   1.88000000e-05              nan\n",
      "   4.28863000e-04] 0.000462163\n",
      "35 40 9 [  5.94000000e-05   3.12000000e-05   1.82000000e-05   3.21000000e-05\n",
      "   2.51000000e-05] 0.000166\n",
      "40 45 11 [             nan   1.08000000e-05   4.66000000e-06   4.12000000e-06\n",
      "   7.52000000e-06] 2.71e-05\n",
      "45 50 12 [  3.70000000e-06   4.07000000e-06   8.21000000e-06   3.49000000e-06\n",
      "   3.37000000e-06] 2.284e-05\n",
      "50 55 14 [             nan   4.84000000e-06   8.00000000e-06   1.36000000e-05\n",
      "   1.16000000e-05] 3.804e-05\n",
      "55 60 15 [  3.85000000e-06   3.34000000e-06   5.25000000e-06              nan\n",
      "   1.72000000e-05] 2.964e-05\n",
      "60 65 18 [  4.72000000e-06              nan   2.58000000e-05   5.68000000e-06\n",
      "              nan] 3.62e-05\n",
      "65 70 21 [  7.10000000e-06              nan   7.58000000e-06   1.88000000e-06\n",
      "   1.34000000e-06] 1.79e-05\n",
      "70 75 22 [  1.28000000e-06   1.28000000e-06   4.65000000e-06              nan\n",
      "   9.52000000e-06] 1.673e-05\n",
      "75 80 24 [  3.88000000e-06   2.38000000e-06   3.44000000e-06   4.24000000e-06\n",
      "   6.95000000e-06] 2.089e-05\n",
      "80 85 28 [             nan   1.37000000e-05   2.28000000e-05   1.09000000e-05\n",
      "   9.89000000e-06] 5.729e-05\n",
      "85 90 29 [  1.13000000e-05   1.66000000e-05   3.16000000e-05   2.04000000e-05\n",
      "   2.25000000e-05] 0.0001024\n",
      "90 95 30 [  2.38000000e-05   2.79000000e-05   3.20000000e-05   3.87000000e-05\n",
      "   4.60000000e-05] 0.0001684\n",
      "95 100 31 [  3.53000000e-05   1.24000000e-05   1.13000000e-05   8.09000000e-06\n",
      "   4.93000000e-06] 7.202e-05\n",
      "100 105 33 [  5.01000000e-06   9.20000000e-05   1.06000000e-05   1.47000000e-05\n",
      "   5.87000000e-06] 0.00012818\n",
      "105 110 36 [  7.30000000e-06   6.26000000e-05   6.78000000e-05   9.43000000e-06\n",
      "   8.52000000e-06] 0.00015565\n"
     ]
    }
   ],
   "source": [
    "euvLOW[0]=nansum(tmp[:6])\n",
    "for kh in range(1,N+1):\n",
    "    ikb=int(lowB[kh]/10)\n",
    "    ikh=int((highB[kh])/10)\n",
    "    #print ikb,ikh,'_____'\n",
    "    if(ikb!=ikh):\n",
    "        euvLOW[kh]=nansum(tmp[ikb+1:ikh+1])\n",
    "        print ikb+5,ikh+5,kh,tmp[ikb+1:ikh+1],euvLOW[kh]"
   ]
  },
  {
   "cell_type": "code",
   "execution_count": 366,
   "metadata": {
    "collapsed": false
   },
   "outputs": [
    {
     "name": "stdout",
     "output_type": "stream",
     "text": [
      "[  0.00000000e+00   6.25000000e-05   6.50000000e-05   3.38574000e-04\n",
      "   1.13800000e-04   0.00000000e+00   0.00000000e+00   4.62163000e-04\n",
      "   0.00000000e+00   1.66000000e-04   0.00000000e+00   2.71000000e-05\n",
      "   2.28400000e-05   0.00000000e+00   3.80400000e-05   2.96400000e-05\n",
      "   0.00000000e+00   0.00000000e+00   3.62000000e-05   0.00000000e+00\n",
      "   0.00000000e+00   1.79000000e-05   1.67300000e-05   0.00000000e+00\n",
      "   2.08900000e-05   0.00000000e+00   0.00000000e+00   0.00000000e+00\n",
      "   5.72900000e-05   1.02400000e-04   1.68400000e-04   7.20200000e-05\n",
      "   0.00000000e+00   1.28180000e-04   0.00000000e+00   0.00000000e+00\n",
      "   1.55650000e-04   0.00000000e+00]\n"
     ]
    }
   ],
   "source": [
    "print euvLOW#euvLine #+"
   ]
  },
  {
   "cell_type": "code",
   "execution_count": 367,
   "metadata": {
    "collapsed": false
   },
   "outputs": [
    {
     "data": {
      "text/plain": [
       "[<matplotlib.lines.Line2D at 0xe359f28>]"
      ]
     },
     "execution_count": 367,
     "metadata": {},
     "output_type": "execute_result"
    },
    {
     "data": {
      "image/png": "[encoded data removed]",
      "text/plain": [
       "<matplotlib.figure.Figure at 0xe2b3780>"
      ]
     },
     "metadata": {},
     "output_type": "display_data"
    }
   ],
   "source": [
    "k=0\n",
    "tmp1=zeros(N+1)\n",
    "lamTMP=zeros(N+1).astype(int)\n",
    "for i in range(0,105,5):\n",
    "    tmp1[k]=sum(euvDAY[i:i+5,1])\n",
    "    lamTMP[k]=i+4\n",
    "#print i,euvPHD[i:i+5,1],k\n",
    "    k=k+1\n",
    "plot(lamTMP[:21],tmp1[:21])"
   ]
  },
  {
   "cell_type": "code",
   "execution_count": 368,
   "metadata": {
    "collapsed": false
   },
   "outputs": [
    {
     "data": {
      "text/plain": [
       "([<matplotlib.axis.XTick at 0xd81b080>,\n",
       "  <matplotlib.axis.XTick at 0xdae5550>,\n",
       "  <matplotlib.axis.XTick at 0xd10cd30>,\n",
       "  <matplotlib.axis.XTick at 0xd9249b0>,\n",
       "  <matplotlib.axis.XTick at 0xd7fbd68>,\n",
       "  <matplotlib.axis.XTick at 0xe237cc0>,\n",
       "  <matplotlib.axis.XTick at 0xe224390>,\n",
       "  <matplotlib.axis.XTick at 0xc059860>,\n",
       "  <matplotlib.axis.XTick at 0xe266400>,\n",
       "  <matplotlib.axis.XTick at 0xcb19748>,\n",
       "  <matplotlib.axis.XTick at 0xd7200b8>],\n",
       " <a list of 11 Text xticklabel objects>)"
      ]
     },
     "execution_count": 368,
     "metadata": {},
     "output_type": "execute_result"
    },
    {
     "data": {
      "image/png": "[encoded data removed]",
      "text/plain": [
       "<matplotlib.figure.Figure at 0xe3db198>"
      ]
     },
     "metadata": {},
     "output_type": "display_data"
    }
   ],
   "source": [
    "subplot(211)\n",
    "plot(highB[:-1]/10,euvLOW[:-1],'+-r')\n",
    "#plot(euvPHD[:105])\n",
    "xlim([0,110])\n",
    "xticks(arange(0,110,10))\n",
    "subplot(212)\n",
    "plot(euvDAY[:105,1])\n",
    "xlim([0,110])\n",
    "xticks(arange(0,110,10))"
   ]
  },
  {
   "cell_type": "code",
   "execution_count": 369,
   "metadata": {
    "collapsed": false
   },
   "outputs": [
    {
     "name": "stdout",
     "output_type": "stream",
     "text": [
      "[  0.00000000e+00   6.25000000e-05   6.50000000e-05   3.38574000e-04\n",
      "   1.13800000e-04   7.35000000e-05   2.99000000e-05   4.62163000e-04\n",
      "   1.62000000e-05   1.66000000e-04   3.70000000e-05   2.71000000e-05\n",
      "   2.28400000e-05   1.22000000e-05   3.80400000e-05   2.96400000e-05\n",
      "   3.59000000e-06   4.29000000e-06   3.62000000e-05   1.68000000e-05\n",
      "   3.25000000e-05   1.79000000e-05   1.67300000e-05   3.03000000e-06\n",
      "   2.08900000e-05   1.89000000e-05   0.00000000e+00   0.00000000e+00\n",
      "   5.72900000e-05   1.02400000e-04   1.68400000e-04   7.20200000e-05\n",
      "   0.00000000e+00   1.28180000e-04   0.00000000e+00   0.00000000e+00\n",
      "   1.55650000e-04]\n"
     ]
    }
   ],
   "source": [
    "print (euvLOW[:-1]+euvLine[:-1])"
   ]
  },
  {
   "cell_type": "code",
   "execution_count": 370,
   "metadata": {
    "collapsed": false
   },
   "outputs": [],
   "source": [
    "#i=0\n",
    "#ik=0\n",
    "#for kh in range(36):\n",
    "#    sum=0\n",
    "#    while ((highB[kh]>i) and (lowB[kh]<=i)):\n",
    "#        sum=sum+euvDAY[i,60]\n",
    "#        print highB[kh],i,ik\n",
    "#        if(highB[kh] != lowB[kh]):\n",
    "#            i=i+1\n",
    "#    \n",
    "#    ik=ik+1\n"
   ]
  },
  {
   "cell_type": "code",
   "execution_count": null,
   "metadata": {
    "collapsed": false
   },
   "outputs": [],
   "source": []
  },
  {
   "cell_type": "code",
   "execution_count": 371,
   "metadata": {
    "collapsed": false
   },
   "outputs": [
    {
     "data": {
      "text/plain": [
       "[<matplotlib.lines.Line2D at 0xe3e8780>]"
      ]
     },
     "execution_count": 371,
     "metadata": {},
     "output_type": "execute_result"
    },
    {
     "data": {
      "image/png": "[encoded data removed]",
      "text/plain": [
       "<matplotlib.figure.Figure at 0xe3e8a58>"
      ]
     },
     "metadata": {},
     "output_type": "display_data"
    }
   ],
   "source": [
    "plot (bon,euvLOW,'r+')\n",
    "plot(euvDAY[0:105,0]) "
   ]
  },
  {
   "cell_type": "code",
   "execution_count": 372,
   "metadata": {
    "collapsed": false
   },
   "outputs": [
    {
     "ename": "IndexError",
     "evalue": "index 1050 is out of bounds for axis 1 with size 2",
     "output_type": "error",
     "traceback": [
      "\u001b[0;31m---------------------------------------------------------------------------\u001b[0m",
      "\u001b[0;31mIndexError\u001b[0m                                Traceback (most recent call last)",
      "\u001b[0;32m<ipython-input-372-1c7948629aca>\u001b[0m in \u001b[0;36m<module>\u001b[0;34m()\u001b[0m\n\u001b[1;32m      3\u001b[0m \u001b[0msubplot\u001b[0m\u001b[1;33m(\u001b[0m\u001b[1;36m211\u001b[0m\u001b[1;33m)\u001b[0m\u001b[1;33m\u001b[0m\u001b[0m\n\u001b[1;32m      4\u001b[0m \u001b[1;33m\u001b[0m\u001b[0m\n\u001b[0;32m----> 5\u001b[0;31m \u001b[0mplot\u001b[0m\u001b[1;33m(\u001b[0m\u001b[0meuvDAY\u001b[0m\u001b[1;33m[\u001b[0m\u001b[1;36m0\u001b[0m\u001b[1;33m:\u001b[0m\u001b[1;36m40\u001b[0m\u001b[1;33m,\u001b[0m\u001b[1;36m1050\u001b[0m\u001b[1;33m]\u001b[0m\u001b[1;33m,\u001b[0m\u001b[0mlabel\u001b[0m\u001b[1;33m=\u001b[0m\u001b[1;34m'energy before'\u001b[0m\u001b[1;33m)\u001b[0m\u001b[1;33m\u001b[0m\u001b[0m\n\u001b[0m\u001b[1;32m      6\u001b[0m \u001b[0mplot\u001b[0m\u001b[1;33m(\u001b[0m\u001b[0meuvDAY\u001b[0m\u001b[1;33m[\u001b[0m\u001b[1;36m0\u001b[0m\u001b[1;33m:\u001b[0m\u001b[1;36m40\u001b[0m\u001b[1;33m,\u001b[0m\u001b[1;36m1060\u001b[0m\u001b[1;33m]\u001b[0m\u001b[1;33m,\u001b[0m\u001b[0mlabel\u001b[0m\u001b[1;33m=\u001b[0m\u001b[1;34m'energy max'\u001b[0m\u001b[1;33m)\u001b[0m\u001b[1;33m\u001b[0m\u001b[0m\n\u001b[1;32m      7\u001b[0m \u001b[0mlegend\u001b[0m\u001b[1;33m(\u001b[0m\u001b[1;33m)\u001b[0m\u001b[1;33m\u001b[0m\u001b[0m\n",
      "\u001b[0;31mIndexError\u001b[0m: index 1050 is out of bounds for axis 1 with size 2"
     ]
    },
    {
     "data": {
      "image/png": "[encoded data removed]",
      "text/plain": [
       "<matplotlib.figure.Figure at 0xc1490f0>"
      ]
     },
     "metadata": {},
     "output_type": "display_data"
    }
   ],
   "source": [
    "#plot in photon/cm2*s-1*10**9 \n",
    "#plot(euvPHD[0:105,1160]) \n",
    "subplot(211)\n",
    "\n",
    "plot(euvDAY[0:40,1050],label='energy before')\n",
    "plot(euvDAY[0:40,1060],label='energy max')\n",
    "legend()\n",
    "subplot(212)\n",
    "plot(euvPHD[0:40,1050],label='photon before')\n",
    "plot(euvPHD[0:40,1060],label='photon max')\n",
    "xlabel('$\\lambda$, nm')\n",
    "legend()"
   ]
  },
  {
   "cell_type": "code",
   "execution_count": null,
   "metadata": {
    "collapsed": false
   },
   "outputs": [],
   "source": [
    "sumFLUX=zeros(1440)\n",
    "sumPHOT=zeros(1440)\n",
    "for i in range(1440):\n",
    "    sumFLUX[i]= sum(euvDAY[0:105,i]) \n",
    "    sumPHOT[i]= sum(euvPHD[0:105,i])\n"
   ]
  },
  {
   "cell_type": "code",
   "execution_count": null,
   "metadata": {
    "collapsed": false
   },
   "outputs": [],
   "source": [
    "subplot(211)\n",
    "plot(sumFLUX[1050:1100])\n",
    "subplot(212)\n",
    "plot(sumPHOT[1050:1100])\n",
    "xlabel('time,min')"
   ]
  },
  {
   "cell_type": "code",
   "execution_count": null,
   "metadata": {
    "collapsed": false
   },
   "outputs": [],
   "source": [
    "sum(euvLOW)"
   ]
  },
  {
   "cell_type": "code",
   "execution_count": null,
   "metadata": {
    "collapsed": true
   },
   "outputs": [],
   "source": []
  }
 ],
 "metadata": {
  "kernelspec": {
   "display_name": "Python 2",
   "language": "python",
   "name": "python2"
  },
  "language_info": {
   "codemirror_mode": {
    "name": "ipython",
    "version": 2
   },
   "file_extension": ".py",
   "mimetype": "text/x-python",
   "name": "python",
   "nbconvert_exporter": "python",
   "pygments_lexer": "ipython2",
   "version": "2.7.13"
  }
 },
 "nbformat": 4,
 "nbformat_minor": 2
}
