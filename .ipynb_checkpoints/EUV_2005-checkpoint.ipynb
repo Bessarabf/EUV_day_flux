{
 "cells": [
  {
   "cell_type": "code",
   "execution_count": 2,
   "metadata": {
    "collapsed": false
   },
   "outputs": [
    {
     "name": "stdout",
     "output_type": "stream",
     "text": [
      "Populating the interactive namespace from numpy and matplotlib\n"
     ]
    }
   ],
   "source": [
    "import numpy\n",
    "import matplotlib\n",
    "%pylab inline"
   ]
  },
  {
   "cell_type": "code",
   "execution_count": 3,
   "metadata": {
    "collapsed": false
   },
   "outputs": [],
   "source": [
    "#open file\n",
    "doy=250\n",
    "fname=\"ssi_\"+str(doy)+'_2005.dat'\n",
    "euv=zeros(190)\n",
    "euvDAY=zeros(190*1440).reshape(190,1440) # flux in energy\n",
    "euvPHD=zeros(190*1440).reshape(190,1440) # flux in phot"
   ]
  },
  {
   "cell_type": "code",
   "execution_count": 4,
   "metadata": {
    "collapsed": false
   },
   "outputs": [
    {
     "ename": "IOError",
     "evalue": "[Errno 2] No such file or directory: '2005/ssi_250_2005.dat'",
     "output_type": "error",
     "traceback": [
      "\u001b[0;31m---------------------------------------------------------------------------\u001b[0m",
      "\u001b[0;31mIOError\u001b[0m                                   Traceback (most recent call last)",
      "\u001b[0;32m<ipython-input-4-1e0b6270d8bd>\u001b[0m in \u001b[0;36m<module>\u001b[0;34m()\u001b[0m\n\u001b[0;32m----> 1\u001b[0;31m \u001b[0mfil\u001b[0m\u001b[1;33m=\u001b[0m\u001b[0mopen\u001b[0m\u001b[1;33m(\u001b[0m\u001b[0mfname\u001b[0m\u001b[1;33m,\u001b[0m\u001b[1;34m\"r\"\u001b[0m\u001b[1;33m)\u001b[0m\u001b[1;33m\u001b[0m\u001b[0m\n\u001b[0m\u001b[1;32m      2\u001b[0m \u001b[1;32mfor\u001b[0m \u001b[0mi\u001b[0m \u001b[1;32min\u001b[0m \u001b[0mrange\u001b[0m\u001b[1;33m(\u001b[0m\u001b[1;36m3\u001b[0m\u001b[1;33m)\u001b[0m\u001b[1;33m:\u001b[0m\u001b[1;33m\u001b[0m\u001b[0m\n\u001b[1;32m      3\u001b[0m         \u001b[1;32mprint\u001b[0m \u001b[0mfil\u001b[0m\u001b[1;33m.\u001b[0m\u001b[0mreadline\u001b[0m\u001b[1;33m(\u001b[0m\u001b[1;33m)\u001b[0m\u001b[1;33m\u001b[0m\u001b[0m\n\u001b[1;32m      4\u001b[0m \u001b[0mj\u001b[0m\u001b[1;33m=\u001b[0m\u001b[1;36m0\u001b[0m\u001b[1;33m\u001b[0m\u001b[0m\n\u001b[1;32m      5\u001b[0m \u001b[1;32mwhile\u001b[0m\u001b[1;33m(\u001b[0m\u001b[1;36m1\u001b[0m\u001b[1;33m)\u001b[0m\u001b[1;33m:\u001b[0m\u001b[1;33m\u001b[0m\u001b[0m\n",
      "\u001b[0;31mIOError\u001b[0m: [Errno 2] No such file or directory: '2005/ssi_250_2005.dat'"
     ]
    }
   ],
   "source": [
    "fil=open(fname,\"r\")\n",
    "for i in range(3):\n",
    "        print fil.readline()\n",
    "j=0\n",
    "while(1):\n",
    "        try:\n",
    "            minut=int(fil.readline())\n",
    "           # print minut\n",
    "        except:\n",
    "            break\n",
    "        euvL=(fil.readline().split())\n",
    "        for i in range(190):\n",
    "            euv[i]=float(euvL[i])\n",
    "        euvDAY[:,j]=euv[:]\n",
    "        j=j+1\n",
    "        \n",
    "fil.close()\n",
    "\n",
    "\n",
    "\n",
    "    "
   ]
  },
  {
   "cell_type": "markdown",
   "metadata": {},
   "source": [
    "$E_o=h\\nu = hc/\\lambda$ - photon energy  \n",
    "$I=E/{h\\nu}$ - photon flux"
   ]
  },
  {
   "cell_type": "code",
   "execution_count": null,
   "metadata": {
    "collapsed": false
   },
   "outputs": [],
   "source": [
    "lam=arange(1,191)\n",
    "hnu=zeros(190)\n",
    "h = 6.626e-34 #  Plank constant Joul*s\n",
    "c=3.e8 # m/s \n",
    "hnu[:]=h*c/lam[:]*1.e9"
   ]
  },
  {
   "cell_type": "code",
   "execution_count": null,
   "metadata": {
    "collapsed": true
   },
   "outputs": [],
   "source": [
    "for i in range(1440):\n",
    "    euvPHD[:,i]=euvDAY[:,i]/hnu[:]*1.e-4*1.e-9 # norm on 10^9 for GSM"
   ]
  },
  {
   "cell_type": "code",
   "execution_count": null,
   "metadata": {
    "collapsed": false,
    "scrolled": true
   },
   "outputs": [],
   "source": [
    "plot(euvDAY[:,60])"
   ]
  },
  {
   "cell_type": "code",
   "execution_count": null,
   "metadata": {
    "collapsed": false
   },
   "outputs": [],
   "source": [
    "print euvDAY[1100:1200]"
   ]
  },
  {
   "cell_type": "code",
   "execution_count": null,
   "metadata": {
    "collapsed": false
   },
   "outputs": [],
   "source": [
    "# new spektr \n",
    "lowB=zeros(36)\n",
    "highB=zeros(36)\n",
    "#bon=zeros(36)\n",
    "lowB= array([ 0,10,15,20,24,25,28,30,31,35,37,38,45,46,50,55,56,58,60,61,65,66,70,71,75,76,77,79,80,85,90,98,99,100,102,104])\n",
    "highB=array([10,15,20,24,25,28,30,30,35,37,37,45,45,50,55,55,58,60,61,65,65,70,70,75,76,77,79,80,85,90,95,98,100,102,103,105])\n",
    "#for i in range(36):\n",
    "#    bon[i]=(lowB[i]+highB[i])*.5\n",
    "bon=(lowB+highB)*.5\n",
    "print len(bon)\n"
   ]
  },
  {
   "cell_type": "code",
   "execution_count": null,
   "metadata": {
    "collapsed": false
   },
   "outputs": [],
   "source": [
    "N=size(lowB)\n",
    "euvLOW=zeros(N)"
   ]
  },
  {
   "cell_type": "code",
   "execution_count": null,
   "metadata": {
    "collapsed": false
   },
   "outputs": [],
   "source": [
    "for kh in range(36):\n",
    "    ikb=int(lowB[kh])\n",
    "    ikh=int(highB[kh])\n",
    "    if(ikb==ikh):\n",
    "        euvLOW[kh]=sum(euvDAY[ikb:ikh+1,0])\n",
    "    else:\n",
    "        euvLOW[kh]=sum(euvDAY[ikb:ikh,0])\n",
    "    print ikb,ikh,euvDAY[ikb,0],euvDAY[ikh,0],euvLOW[kh]"
   ]
  },
  {
   "cell_type": "code",
   "execution_count": null,
   "metadata": {
    "collapsed": false
   },
   "outputs": [],
   "source": [
    "#i=0\n",
    "#ik=0\n",
    "#for kh in range(36):\n",
    "#    sum=0\n",
    "#    while ((highB[kh]>i) and (lowB[kh]<=i)):\n",
    "#        sum=sum+euvDAY[i,60]\n",
    "#        print highB[kh],i,ik\n",
    "#        if(highB[kh] != lowB[kh]):\n",
    "#            i=i+1\n",
    "#    \n",
    "#    ik=ik+1\n"
   ]
  },
  {
   "cell_type": "code",
   "execution_count": null,
   "metadata": {
    "collapsed": false
   },
   "outputs": [],
   "source": [
    "plot (bon,euvLOW,'r+')\n",
    "plot(euvDAY[0:105,0]) "
   ]
  },
  {
   "cell_type": "code",
   "execution_count": null,
   "metadata": {
    "collapsed": false
   },
   "outputs": [],
   "source": [
    "#plot in photon/cm2*s-1*10**9 \n",
    "#plot(euvPHD[0:105,1160]) \n",
    "subplot(211)\n",
    "\n",
    "plot(euvDAY[0:40,1050],label='energy before')\n",
    "plot(euvDAY[0:40,1060],label='energy max')\n",
    "legend()\n",
    "subplot(212)\n",
    "plot(euvPHD[0:40,1050],label='photon before')\n",
    "plot(euvPHD[0:40,1060],label='photon max')\n",
    "xlabel('$\\lambda$, nm')\n",
    "legend()"
   ]
  },
  {
   "cell_type": "code",
   "execution_count": null,
   "metadata": {
    "collapsed": false
   },
   "outputs": [],
   "source": [
    "sumFLUX=zeros(1440)\n",
    "sumPHOT=zeros(1440)\n",
    "for i in range(1440):\n",
    "    sumFLUX[i]= sum(euvDAY[0:105,i]) \n",
    "    sumPHOT[i]= sum(euvPHD[0:105,i])\n"
   ]
  },
  {
   "cell_type": "code",
   "execution_count": null,
   "metadata": {
    "collapsed": false
   },
   "outputs": [],
   "source": [
    "subplot(211)\n",
    "plot(sumFLUX[1050:1100])\n",
    "subplot(212)\n",
    "plot(sumPHOT[1050:1100])\n",
    "xlabel('time,min')"
   ]
  },
  {
   "cell_type": "code",
   "execution_count": null,
   "metadata": {
    "collapsed": false
   },
   "outputs": [],
   "source": [
    "sum(euvLOW)"
   ]
  },
  {
   "cell_type": "code",
   "execution_count": null,
   "metadata": {
    "collapsed": true
   },
   "outputs": [],
   "source": []
  }
 ],
 "metadata": {
  "kernelspec": {
   "display_name": "Python 2",
   "language": "python",
   "name": "python2"
  },
  "language_info": {
   "codemirror_mode": {
    "name": "ipython",
    "version": 2
   },
   "file_extension": ".py",
   "mimetype": "text/x-python",
   "name": "python",
   "nbconvert_exporter": "python",
   "pygments_lexer": "ipython2",
   "version": "2.7.13"
  }
 },
 "nbformat": 4,
 "nbformat_minor": 2
}
