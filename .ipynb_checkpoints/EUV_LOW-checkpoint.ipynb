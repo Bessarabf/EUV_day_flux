{
 "cells": [
  {
   "cell_type": "code",
   "execution_count": 133,
   "metadata": {},
   "outputs": [
    {
     "name": "stdout",
     "output_type": "stream",
     "text": [
      "Populating the interactive namespace from numpy and matplotlib\n"
     ]
    }
   ],
   "source": [
    "import numpy\n",
    "import matplotlib\n",
    "%pylab inline"
   ]
  },
  {
   "cell_type": "code",
   "execution_count": 134,
   "metadata": {
    "collapsed": true
   },
   "outputs": [],
   "source": [
    "# hnu \n",
    "lam=arange(1,191)\n",
    "hnu=zeros(190)\n",
    "h = 6.626e-34 #  Plank constant Joul*s\n",
    "c=3.e8 # m/s \n",
    "hnu[:]=h*c/lam[:]*1.e9"
   ]
  },
  {
   "cell_type": "code",
   "execution_count": null,
   "metadata": {
    "collapsed": true
   },
   "outputs": [],
   "source": []
  },
  {
   "cell_type": "code",
   "execution_count": 135,
   "metadata": {
    "collapsed": true
   },
   "outputs": [],
   "source": [
    "# open file with EUV data\n",
    "doy=250\n",
    "fname=\"ssi_\"+str(doy)+'_2005.dat'\n",
    "euv=zeros(190)\n",
    "euvDAY=zeros(190*1440).reshape(190,1440) # flux in energy\n",
    "euvPHD=zeros(190*1440).reshape(190,1440) # flux in phot\n",
    "tmp=zeros(190)"
   ]
  },
  {
   "cell_type": "code",
   "execution_count": 136,
   "metadata": {
    "collapsed": true
   },
   "outputs": [],
   "source": [
    "fil=open(fname,\"r\")\n",
    "for i in range(3):\n",
    "       fil.readline()\n",
    "j=0\n",
    "while(1):\n",
    "        try:\n",
    "            minut=int(fil.readline())\n",
    "           # print minut\n",
    "        except:\n",
    "            break\n",
    "        euvL=(fil.readline().split())\n",
    "        for i in range(190):\n",
    "            euv[i]=float(euvL[i])\n",
    "        euvDAY[:,j]=euv[:]\n",
    "        j=j+1\n",
    "        \n",
    "fil.close()   \n",
    "# solar flux in phot\n",
    "for i in range(1440):\n",
    "    euvPHD[:,i]=euvDAY[:,i]/hnu[:]*1.e-4*1.e-9 # norm on 10^9 for \n",
    "nD=len(euvDAY[:,0])"
   ]
  },
  {
   "cell_type": "code",
   "execution_count": 137,
   "metadata": {},
   "outputs": [],
   "source": [
    "#read low resolution spectr\n",
    "mSP=loadtxt('spectr.dat',skiprows=3)\n",
    "N=len(mSP[:,0])\n",
    "#print mSP[:,0],mSP[:,1]\n",
    "\n",
    "#low and high boundary intervals in angstrom\n",
    "lowB=zeros(N+1).astype(int)\n",
    "highB=zeros(N+1).astype(int)\n",
    "# intervals in nanometers\n",
    "highB10=zeros(N+1).astype(int)\n",
    "lowB10=zeros(N+1).astype(int)\n",
    "bon=zeros(N+1)\n",
    "highB[0]=50\n",
    "for i in range(1,N+1):\n",
    "    lowB[i]=int(mSP[i-1,1])\n",
    "    highB[i]=int(mSP[i-1,2])\n",
    "bon=(lowB+highB)*.5\n",
    "\n",
    "#Combine two spectral line (303 A)\n",
    "lowB[8:-1]=lowB[9:]\n",
    "\n",
    "highB[8:-1]=highB[9:]\n",
    "# Last line - Laymann alpha\n",
    "lowB[N]=1220\n",
    "highB[N]=1220\n",
    "\n",
    "highB10[0]=int((highB[0])/10.+0.5)\n",
    "lowB10[0]=int((lowB[0])/10.+0.5)\n",
    "for i in range(N+1):\n",
    "    highB10[i]=int((highB[i])/10.+0.5)\n",
    "    lowB10[i]=int((lowB[i])/10.+0.5)\n",
    "    if(highB10[i]==highB10[i-1]):\n",
    "        highB10[i]=highB10[i]+1\n",
    "        lowB10[i]=highB10[i]\n",
    "#print lowB10\n",
    "#print highB10"
   ]
  },
  {
   "cell_type": "code",
   "execution_count": 138,
   "metadata": {},
   "outputs": [],
   "source": [
    "euvLine=zeros(N+1)\n",
    "euvLOW=zeros(N+1)\n",
    "mNAN=zeros(N+1).astype(int)\n",
    "#cycle for lambda\n",
    "#search i where lowB=highB\n",
    "k=0\n",
    "for i in range(N+1):\n",
    "    if(lowB10[i]==highB10[i]):\n",
    "        mNAN[k]=i\n",
    "       # print mNAN[k],highB10[mNAN[k]]\n",
    "        k=k+1\n"
   ]
  },
  {
   "cell_type": "code",
   "execution_count": 139,
   "metadata": {},
   "outputs": [],
   "source": [
    "k=0\n",
    "i=int(mNAN[k])\n",
    "tmp[:]=euvPHD[:,0]\n",
    "for kh in range(0,nD):\n",
    "    #print int((highB[i]))\n",
    "    if(highB10[i]==kh):\n",
    "        euvLine[i]=euvPHD[kh-1,0]\n",
    "        tmp[kh-1]=nan\n",
    "        k=k+1\n",
    "        #print i,highB10[i],k-1,kh,euvPHD[kh-1,0],euvLine[i]\n",
    "        i=int(mNAN[k])\n"
   ]
  },
  {
   "cell_type": "code",
   "execution_count": 140,
   "metadata": {},
   "outputs": [
    {
     "data": {
      "text/plain": [
       "[<matplotlib.lines.Line2D at 0x76baa10>]"
      ]
     },
     "execution_count": 140,
     "metadata": {},
     "output_type": "execute_result"
    },
    {
     "data": {
      "image/png": "[encoded data removed]",
      "text/plain": [
       "<matplotlib.figure.Figure at 0x77a0850>"
      ]
     },
     "metadata": {},
     "output_type": "display_data"
    }
   ],
   "source": [
    "plot(highB10[:-1],euvLine[:-1])"
   ]
  },
  {
   "cell_type": "code",
   "execution_count": 141,
   "metadata": {},
   "outputs": [],
   "source": [
    "euvLOW[0]=nansum(tmp[0:6])\n",
    "for kh in range(1,N+1):\n",
    "    ikb=lowB10[kh]\n",
    "    ikh=highB10[kh]\n",
    "    #print ikb,ikh,'_____'\n",
    "    if(ikb!=ikh):\n",
    "        euvLOW[kh]=nansum(tmp[ikb:ikh])\n",
    "       # print ikb,ikh,kh,tmp[ikb:ikh],euvLOW[kh]"
   ]
  },
  {
   "cell_type": "code",
   "execution_count": 142,
   "metadata": {},
   "outputs": [
    {
     "data": {
      "text/plain": [
       "(0, 6)"
      ]
     },
     "execution_count": 142,
     "metadata": {},
     "output_type": "execute_result"
    },
    {
     "data": {
      "image/png": "[encoded data removed]",
      "text/plain": [
       "<matplotlib.figure.Figure at 0x753e050>"
      ]
     },
     "metadata": {},
     "output_type": "display_data"
    }
   ],
   "source": [
    "plot(highB10[:-1],euvLine[:-1]+euvLOW[:-1],'+-')\n",
    "#plot(highB10[:-1],euvLOW[:-1])\n",
    "ylim([0,6])"
   ]
  },
  {
   "cell_type": "code",
   "execution_count": 143,
   "metadata": {},
   "outputs": [
    {
     "name": "stdout",
     "output_type": "stream",
     "text": [
      "66.3104999497 66.8263234732\n"
     ]
    }
   ],
   "source": [
    "print sum(euvLOW[:-1]+euvLine[:-1]),sum(euvPHD[:106,0])#,sum(tmp1[:])"
   ]
  },
  {
   "cell_type": "code",
   "execution_count": 144,
   "metadata": {},
   "outputs": [
    {
     "data": {
      "text/plain": [
       "[<matplotlib.lines.Line2D at 0x71b72d0>]"
      ]
     },
     "execution_count": 144,
     "metadata": {},
     "output_type": "execute_result"
    },
    {
     "data": {
      "image/png": "[encoded data removed]",
      "text/plain": [
       "<matplotlib.figure.Figure at 0x75345f0>"
      ]
     },
     "metadata": {},
     "output_type": "display_data"
    }
   ],
   "source": [
    "#plot in photon/cm2*s-1*10**9 \n",
    "plot(euvPHD[0:106,0],'.-') "
   ]
  },
  {
   "cell_type": "code",
   "execution_count": null,
   "metadata": {
    "collapsed": true
   },
   "outputs": [],
   "source": []
  }
 ],
 "metadata": {
  "kernelspec": {
   "display_name": "Python 2",
   "language": "python",
   "name": "python2"
  },
  "language_info": {
   "codemirror_mode": {
    "name": "ipython",
    "version": 2
   },
   "file_extension": ".py",
   "mimetype": "text/x-python",
   "name": "python",
   "nbconvert_exporter": "python",
   "pygments_lexer": "ipython2",
   "version": "2.7.13"
  }
 },
 "nbformat": 4,
 "nbformat_minor": 2
}
