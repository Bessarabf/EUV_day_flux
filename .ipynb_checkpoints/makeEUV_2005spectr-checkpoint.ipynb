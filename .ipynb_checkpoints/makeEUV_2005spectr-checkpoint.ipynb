{
 "cells": [
  {
   "cell_type": "code",
   "execution_count": 60,
   "metadata": {
    "collapsed": false
   },
   "outputs": [
    {
     "name": "stdout",
     "output_type": "stream",
     "text": [
      "Populating the interactive namespace from numpy and matplotlib\n"
     ]
    }
   ],
   "source": [
    "import numpy\n",
    "import matplotlib\n",
    "%pylab inline"
   ]
  },
  {
   "cell_type": "markdown",
   "metadata": {},
   "source": [
    "### Open and read file with solar flux data"
   ]
  },
  {
   "cell_type": "code",
   "execution_count": 61,
   "metadata": {
    "collapsed": false
   },
   "outputs": [],
   "source": [
    "#open file\n",
    "doy=250\n",
    "fname=\"ssi_\"+str(doy)+'_2005.dat'\n",
    "euv=zeros(190)\n",
    "euvDAY=zeros(190*1440).reshape(190,1440) # flux in energy\n",
    "euvPHD=zeros(190*1440).reshape(190,1440) # flux in phot\n",
    "tmp=zeros(190)"
   ]
  },
  {
   "cell_type": "code",
   "execution_count": 62,
   "metadata": {
    "collapsed": false
   },
   "outputs": [],
   "source": [
    "fil=open(fname,\"r\")\n",
    "for i in range(3):\n",
    "       fil.readline()\n",
    "j=0\n",
    "while(1):\n",
    "        try:\n",
    "            minut=int(fil.readline())\n",
    "           # print minut\n",
    "        except:\n",
    "            break\n",
    "        euvL=(fil.readline().split())\n",
    "        for i in range(190):\n",
    "            euv[i]=float(euvL[i])\n",
    "        euvDAY[:,j]=euv[:]\n",
    "        j=j+1\n",
    "        \n",
    "fil.close()   "
   ]
  },
  {
   "cell_type": "markdown",
   "metadata": {},
   "source": [
    "### Solar flux in photon\n",
    "$E_o=h\\nu = hc/\\lambda$ - photon energy  \n",
    "$I=E/{h\\nu}$ - photon flux"
   ]
  },
  {
   "cell_type": "code",
   "execution_count": 63,
   "metadata": {
    "collapsed": false
   },
   "outputs": [],
   "source": [
    "lam=arange(1,191)\n",
    "hnu=zeros(190)\n",
    "h = 6.626e-34 #  Plank constant Joul*s\n",
    "c=3.e8 # m/s \n",
    "hnu[:]=h*c/lam[:]*1.e9"
   ]
  },
  {
   "cell_type": "code",
   "execution_count": 64,
   "metadata": {
    "collapsed": true
   },
   "outputs": [],
   "source": [
    "# solar flux in phot\n",
    "for i in range(1440):\n",
    "    euvPHD[:,i]=euvDAY[:,i]/hnu[:]*1.e-4*1.e-9 # norm on 10^9 for GSM"
   ]
  },
  {
   "cell_type": "code",
   "execution_count": 65,
   "metadata": {
    "collapsed": false
   },
   "outputs": [
    {
     "name": "stdout",
     "output_type": "stream",
     "text": [
      "[  1.   2.   3.   4.   5.   6.   7.   8.   9.  10.  11.  12.  13.  14.  15.\n",
      "  16.  17.  18.  19.  20.  21.  22.  23.  24.  25.  26.  27.  28.  29.  30.\n",
      "  31.  32.  33.  34.  35.  36.  37.] [   50.     100.     150.     200.     256.32   284.15   250.     303.31\n",
      "   303.78   300.     368.07   350.     400.     465.22   450.     500.\n",
      "   554.37   584.33   550.     609.76   629.73   600.     650.     703.36\n",
      "   700.     765.15   770.41   789.36   750.     800.     850.     900.\n",
      "   977.02   950.    1025.72  1031.91  1000.  ]\n"
     ]
    }
   ],
   "source": [
    "#read new spectr\n",
    "mSP=loadtxt('spectr.dat',skiprows=3)\n",
    "N=len(mSP[:,0])\n",
    "print mSP[:,0],mSP[:,1]"
   ]
  },
  {
   "cell_type": "markdown",
   "metadata": {},
   "source": [
    "### Standard spectr interval for EUV model (36 intervals)"
   ]
  },
  {
   "cell_type": "code",
   "execution_count": 66,
   "metadata": {
    "collapsed": false
   },
   "outputs": [
    {
     "name": "stdout",
     "output_type": "stream",
     "text": [
      "[   0   50  100  150  200  256  284  250  303  303  300  368  350  400  465\n",
      "  450  500  554  584  550  609  629  600  650  703  700  765  770  789  750\n",
      "  800  850  900  977  950 1025 1031 1000]\n"
     ]
    }
   ],
   "source": [
    "#low and high boundary intervals in angstrom\n",
    "lowB=zeros(N+1).astype(int)\n",
    "highB=zeros(N+1).astype(int)\n",
    "bon=zeros(N+1)\n",
    "highB[0]=50\n",
    "for i in range(1,N+1):\n",
    "    lowB[i]=int(mSP[i-1,1])\n",
    "    highB[i]=int(mSP[i-1,2])\n",
    "print lowB\n",
    "bon=(lowB+highB)*.5"
   ]
  },
  {
   "cell_type": "markdown",
   "metadata": {},
   "source": [
    "### Combine two spectral lines (303 A)"
   ]
  },
  {
   "cell_type": "code",
   "execution_count": 67,
   "metadata": {
    "collapsed": false
   },
   "outputs": [
    {
     "name": "stdout",
     "output_type": "stream",
     "text": [
      "[   0   50  100  150  200  256  284  250  303  300  368  350  400  465  450\n",
      "  500  554  584  550  609  629  600  650  703  700  765  770  789  750  800\n",
      "  850  900  977  950 1025 1031 1000 1000]\n",
      "[  50  100  150  200  250  256  284  300  303  350  368  400  450  465  500\n",
      "  550  554  584  600  609  629  650  700  703  750  765  770  789  800  850\n",
      "  900  950  977 1000 1025 1031 1050 1210]\n"
     ]
    }
   ],
   "source": [
    "lowB[8:-1]=lowB[9:]\n",
    "print lowB\n",
    "highB[8:-1]=highB[9:]\n",
    "# Last line - Laymann alpha\n",
    "lowB[N]=1210\n",
    "highB[N]=1210\n",
    "\n",
    "print highB"
   ]
  },
  {
   "cell_type": "code",
   "execution_count": 68,
   "metadata": {
    "collapsed": false,
    "scrolled": true
   },
   "outputs": [
    {
     "name": "stdout",
     "output_type": "stream",
     "text": [
      "1.3810292786 5.30234430023 1.18629238354\n"
     ]
    }
   ],
   "source": [
    "print (euvPHD[29,1]),(euvPHD[30,1]),(euvPHD[31,1])"
   ]
  },
  {
   "cell_type": "code",
   "execution_count": 69,
   "metadata": {
    "collapsed": false
   },
   "outputs": [
    {
     "data": {
      "text/plain": [
       "[<matplotlib.lines.Line2D at 0xc526978>]"
      ]
     },
     "execution_count": 69,
     "metadata": {},
     "output_type": "execute_result"
    },
    {
     "data": {
      "image/png": "[encoded data removed]",
      "text/plain": [
       "<matplotlib.figure.Figure at 0xa4a2470>"
      ]
     },
     "metadata": {},
     "output_type": "display_data"
    }
   ],
   "source": [
    "plot(highB)\n",
    "plot(lowB)"
   ]
  },
  {
   "cell_type": "code",
   "execution_count": 70,
   "metadata": {
    "collapsed": false
   },
   "outputs": [
    {
     "name": "stdout",
     "output_type": "stream",
     "text": [
      "[ 5  6  8 10 13 16 17 19 20 23 25 26 27 32 34 35 37  0  0  0  0  0  0  0  0\n",
      "  0  0  0  0  0  0  0  0  0  0  0  0  0]\n"
     ]
    }
   ],
   "source": [
    "euvLine=zeros(N+1)\n",
    "euvLOW=zeros(N+1)\n",
    "mNAN=zeros(N+1).astype(int)\n",
    "#cycle for lambda\n",
    "#search i where lowB=highB\n",
    "k=0\n",
    "for i in range(N+1):\n",
    "    if(lowB[i]==highB[i]):\n",
    "        mNAN[k]=i\n",
    "        k=k+1\n",
    "print mNAN"
   ]
  },
  {
   "cell_type": "code",
   "execution_count": 71,
   "metadata": {
    "collapsed": true
   },
   "outputs": [],
   "source": [
    "### Fill lines only (if highB=lowB)"
   ]
  },
  {
   "cell_type": "code",
   "execution_count": 72,
   "metadata": {
    "collapsed": false
   },
   "outputs": [
    {
     "name": "stdout",
     "output_type": "stream",
     "text": [
      "[ 0.  0.  0.  0.  0.  0.  0.  0.  0.  0.  0.  0.  0.  0.  0.  0.  0.  0.\n",
      "  0.  0.  0.  0.  0.  0.  0.  0.  0.  0.  0.  0.  0.  0.  0.  0.  0.  0.\n",
      "  0.  0.] [  50  100  150  200  250  256  284  300  303  350  368  400  450  465  500\n",
      "  550  554  584  600  609  629  650  700  703  750  765  770  789  800  850\n",
      "  900  950  977 1000 1025 1031 1050 1210]\n"
     ]
    }
   ],
   "source": [
    "k=0\n",
    "i=int(mNAN[k])\n",
    "tmp[:]=euvPHD[:,1]\n",
    "for kh in range(1,190):\n",
    "    #print int((highB[i]))\n",
    "    if(int((highB[i])/10.+0.5)==kh):\n",
    "        euvLine[i]=euvPHD[kh-1,1]\n",
    "        tmp[kh-1]=nan\n",
    "        k=k+1\n",
    "        #print i,int((highB[i])/10),k\n",
    "        i=int(mNAN[k])\n",
    "#print mNAN\n",
    "print euvLOW,highB\n",
    "        "
   ]
  },
  {
   "cell_type": "code",
   "execution_count": 88,
   "metadata": {
    "collapsed": false
   },
   "outputs": [],
   "source": [
    "#euvLOW[0]=nansum(tmp[:6])\n",
    "for kh in range(1,N+1):\n",
    "    ikb=int(lowB[kh]/10+0.5)\n",
    "    ikh=int((highB[kh])/10+0.5)\n",
    "    #print ikb,ikh,'_____'\n",
    "    if(ikb!=ikh):\n",
    "        euvLOW[kh]=nansum(tmp[ikb+1:ikh+1])\n",
    "        #print ikb+5,ikh+5,kh,tmp[ikb+1:ikh+1],euvLOW[kh]\n"
   ]
  },
  {
   "cell_type": "code",
   "execution_count": 89,
   "metadata": {
    "collapsed": false
   },
   "outputs": [],
   "source": [
    "#for kh in range(N+1):\n",
    "#    ikb=int(lowB[kh]/10)\n",
    "#    ikh=int(highB[kh]/10)\n",
    "#    if(ikb!=ikh):\n",
    "#        euvLOW[kh]=nansum(tmp[ikb+1:ikh+1])\n",
    "        #print ikb,ikh,kh,tmp[ikb:ikh],euvLOW[kh]"
   ]
  },
  {
   "cell_type": "code",
   "execution_count": 90,
   "metadata": {
    "collapsed": false
   },
   "outputs": [
    {
     "name": "stdout",
     "output_type": "stream",
     "text": [
      "[ 0.45306017  0.54964332  0.60904025  6.05814267  2.39645638  0.79221652\n",
      "  1.59438575  7.53979274  1.38102928  4.55776436  0.94687091  0.73978398\n",
      "  0.78597374  0.34617517  1.20167884  1.35894713  0.11876547  0.14029651\n",
      "  1.44508668  0.46460408  0.94385904  1.31877382  0.79184606  0.15743837\n",
      "  0.66065867  0.49799376  0.          0.          1.85316299  3.0957547\n",
      "  6.04200976  3.37210001  0.          6.07172316  0.          0.\n",
      "  8.99426099  0.        ]\n"
     ]
    }
   ],
   "source": [
    "print euvLOW+euvLine"
   ]
  },
  {
   "cell_type": "code",
   "execution_count": 76,
   "metadata": {
    "collapsed": false
   },
   "outputs": [
    {
     "data": {
      "text/plain": [
       "[<matplotlib.lines.Line2D at 0xd0bb940>]"
      ]
     },
     "execution_count": 76,
     "metadata": {},
     "output_type": "execute_result"
    },
    {
     "data": {
      "image/png": "[encoded data removed]",
      "text/plain": [
       "<matplotlib.figure.Figure at 0xc8ff1d0>"
      ]
     },
     "metadata": {},
     "output_type": "display_data"
    }
   ],
   "source": [
    "k=0\n",
    "tmp1=zeros(N+1)\n",
    "lamTMP=zeros(N+1).astype(int)\n",
    "for i in range(0,105,5):\n",
    "    tmp1[k]=sum(euvPHD[i:i+5,1])\n",
    "    lamTMP[k]=i+4\n",
    "#print i,euvPHD[i:i+5,1],k\n",
    "    k=k+1\n",
    "plot(lamTMP[:21],tmp1[:21])"
   ]
  },
  {
   "cell_type": "code",
   "execution_count": 87,
   "metadata": {
    "collapsed": false
   },
   "outputs": [
    {
     "data": {
      "text/plain": [
       "([<matplotlib.axis.XTick at 0xe2d38d0>,\n",
       "  <matplotlib.axis.XTick at 0xe2a87f0>,\n",
       "  <matplotlib.axis.XTick at 0xe29a6a0>,\n",
       "  <matplotlib.axis.XTick at 0xe134550>,\n",
       "  <matplotlib.axis.XTick at 0xe264ba8>,\n",
       "  <matplotlib.axis.XTick at 0xe18d780>,\n",
       "  <matplotlib.axis.XTick at 0xe39a630>,\n",
       "  <matplotlib.axis.XTick at 0xe39ac50>,\n",
       "  <matplotlib.axis.XTick at 0xe3ae2b0>,\n",
       "  <matplotlib.axis.XTick at 0xe3ae8d0>,\n",
       "  <matplotlib.axis.XTick at 0xe3aeef0>],\n",
       " <a list of 11 Text xticklabel objects>)"
      ]
     },
     "execution_count": 87,
     "metadata": {},
     "output_type": "execute_result"
    },
    {
     "data": {
      "image/png": "[encoded data removed]",
      "text/plain": [
       "<matplotlib.figure.Figure at 0xe0a4438>"
      ]
     },
     "metadata": {},
     "output_type": "display_data"
    }
   ],
   "source": [
    "subplot(211)\n",
    "plot(highB[:-1]/10,euvLOW[:-1]+euvLine[:-1],'+-r')\n",
    "#plot(euvPHD[:105,1])\n",
    "xlim([0,110])\n",
    "xticks(arange(0,110,10))\n",
    "subplot(212)\n",
    "plot(euvPHD[:105,1])\n",
    "xlim([0,110])\n",
    "xticks(arange(0,110,10))"
   ]
  },
  {
   "cell_type": "code",
   "execution_count": 85,
   "metadata": {
    "collapsed": false
   },
   "outputs": [
    {
     "name": "stdout",
     "output_type": "stream",
     "text": [
      "67.2792953013 67.2792953013 66.654109669\n"
     ]
    }
   ],
   "source": [
    "print sum(euvLOW[:-1]+euvLine[:-1]),sum(euvPHD[:106,1]),sum(tmp1[:])"
   ]
  },
  {
   "cell_type": "code",
   "execution_count": 79,
   "metadata": {
    "collapsed": false
   },
   "outputs": [],
   "source": [
    "#i=0\n",
    "#ik=0\n",
    "#for kh in range(36):\n",
    "#    sum=0\n",
    "#    while ((highB[kh]>i) and (lowB[kh]<=i)):\n",
    "#        sum=sum+euvDAY[i,60]\n",
    "#        print highB[kh],i,ik\n",
    "#        if(highB[kh] != lowB[kh]):\n",
    "#            i=i+1\n",
    "#    \n",
    "#    ik=ik+1\n"
   ]
  },
  {
   "cell_type": "code",
   "execution_count": null,
   "metadata": {
    "collapsed": false
   },
   "outputs": [],
   "source": []
  },
  {
   "cell_type": "code",
   "execution_count": 80,
   "metadata": {
    "collapsed": false
   },
   "outputs": [
    {
     "data": {
      "text/plain": [
       "[<matplotlib.lines.Line2D at 0xcafecf8>]"
      ]
     },
     "execution_count": 80,
     "metadata": {},
     "output_type": "execute_result"
    },
    {
     "data": {
      "image/png": "[encoded data removed]",
      "text/plain": [
       "<matplotlib.figure.Figure at 0xcafe6d8>"
      ]
     },
     "metadata": {},
     "output_type": "display_data"
    }
   ],
   "source": [
    "plot (bon,euvLOW,'r+')\n",
    "plot(euvDAY[0:105,0]) "
   ]
  },
  {
   "cell_type": "code",
   "execution_count": 81,
   "metadata": {
    "collapsed": false
   },
   "outputs": [
    {
     "data": {
      "text/plain": [
       "<matplotlib.legend.Legend at 0xd88dda0>"
      ]
     },
     "execution_count": 81,
     "metadata": {},
     "output_type": "execute_result"
    },
    {
     "data": {
      "image/png": "[encoded data removed]",
      "text/plain": [
       "<matplotlib.figure.Figure at 0xd5542b0>"
      ]
     },
     "metadata": {},
     "output_type": "display_data"
    }
   ],
   "source": [
    "#plot in photon/cm2*s-1*10**9 \n",
    "#plot(euvPHD[0:105,1160]) \n",
    "subplot(211)\n",
    "\n",
    "plot(euvDAY[0:40,1050],label='energy before')\n",
    "plot(euvDAY[0:40,1060],label='energy max')\n",
    "legend()\n",
    "subplot(212)\n",
    "plot(euvPHD[0:40,1050],label='photon before')\n",
    "plot(euvPHD[0:40,1060],label='photon max')\n",
    "xlabel('$\\lambda$, nm')\n",
    "legend()"
   ]
  },
  {
   "cell_type": "code",
   "execution_count": 82,
   "metadata": {
    "collapsed": false
   },
   "outputs": [],
   "source": [
    "sumFLUX=zeros(1440)\n",
    "sumPHOT=zeros(1440)\n",
    "for i in range(1440):\n",
    "    sumFLUX[i]= sum(euvDAY[0:105,i]) \n",
    "    sumPHOT[i]= sum(euvPHD[0:105,i])\n"
   ]
  },
  {
   "cell_type": "code",
   "execution_count": 83,
   "metadata": {
    "collapsed": false
   },
   "outputs": [
    {
     "data": {
      "text/plain": [
       "<matplotlib.text.Text at 0xd9af7f0>"
      ]
     },
     "execution_count": 83,
     "metadata": {},
     "output_type": "execute_result"
    },
    {
     "data": {
      "image/png": "[encoded data removed]",
      "text/plain": [
       "<matplotlib.figure.Figure at 0xd6a4978>"
      ]
     },
     "metadata": {},
     "output_type": "display_data"
    }
   ],
   "source": [
    "subplot(211)\n",
    "plot(sumFLUX[1050:1100])\n",
    "subplot(212)\n",
    "plot(sumPHOT[1050:1100])\n",
    "xlabel('time,min')"
   ]
  },
  {
   "cell_type": "code",
   "execution_count": 84,
   "metadata": {
    "collapsed": false
   },
   "outputs": [
    {
     "data": {
      "text/plain": [
       "59.895660428614555"
      ]
     },
     "execution_count": 84,
     "metadata": {},
     "output_type": "execute_result"
    }
   ],
   "source": [
    "sum(euvLOW)"
   ]
  },
  {
   "cell_type": "code",
   "execution_count": null,
   "metadata": {
    "collapsed": true
   },
   "outputs": [],
   "source": []
  }
 ],
 "metadata": {
  "kernelspec": {
   "display_name": "Python 2",
   "language": "python",
   "name": "python2"
  },
  "language_info": {
   "codemirror_mode": {
    "name": "ipython",
    "version": 2
   },
   "file_extension": ".py",
   "mimetype": "text/x-python",
   "name": "python",
   "nbconvert_exporter": "python",
   "pygments_lexer": "ipython2",
   "version": "2.7.13"
  }
 },
 "nbformat": 4,
 "nbformat_minor": 2
}
