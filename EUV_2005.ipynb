{
 "cells": [
  {
   "cell_type": "code",
   "execution_count": 5,
   "metadata": {
    "collapsed": false
   },
   "outputs": [
    {
     "name": "stdout",
     "output_type": "stream",
     "text": [
      "Populating the interactive namespace from numpy and matplotlib\n"
     ]
    }
   ],
   "source": [
    "import numpy\n",
    "import matplotlib\n",
    "%pylab inline"
   ]
  },
  {
   "cell_type": "code",
   "execution_count": 6,
   "metadata": {
    "collapsed": false
   },
   "outputs": [],
   "source": [
    "#open file\n",
    "doy=250\n",
    "fname=\"ssi_\"+str(doy)+'_2005.dat'\n",
    "euv=zeros(190)\n",
    "euvDAY=zeros(190*1440).reshape(190,1440) # flux in energy\n",
    "euvPHD=zeros(190*1440).reshape(190,1440) # flux in phot"
   ]
  },
  {
   "cell_type": "code",
   "execution_count": 7,
   "metadata": {
    "collapsed": false
   },
   "outputs": [
    {
     "name": "stdout",
     "output_type": "stream",
     "text": [
      "ssi for250doy of the year 2005\n",
      "\n",
      "190 1nm spectral intervals starting from 0 nm\n",
      "\n",
      "1440 60 sec time intervals starting from 0\n",
      "\n"
     ]
    }
   ],
   "source": [
    "fil=open(fname,\"r\")\n",
    "for i in range(3):\n",
    "        print fil.readline()\n",
    "j=0\n",
    "while(1):\n",
    "        try:\n",
    "            minut=int(fil.readline())\n",
    "           # print minut\n",
    "        except:\n",
    "            break\n",
    "        euvL=(fil.readline().split())\n",
    "        for i in range(190):\n",
    "            euv[i]=float(euvL[i])\n",
    "        euvDAY[:,j]=euv[:]\n",
    "        j=j+1\n",
    "        \n",
    "fil.close()\n",
    "\n",
    "\n",
    "\n",
    "    "
   ]
  },
  {
   "cell_type": "markdown",
   "metadata": {},
   "source": [
    "$E_o=h\\nu = hc/\\lambda$ - photon energy  \n",
    "$I=E/{h\\nu}$ - photon flux"
   ]
  },
  {
   "cell_type": "code",
   "execution_count": 8,
   "metadata": {
    "collapsed": false
   },
   "outputs": [],
   "source": [
    "lam=arange(1,191)\n",
    "hnu=zeros(190)\n",
    "h = 6.626e-34 #  Plank constant Joul*s\n",
    "c=3.e8 # m/s \n",
    "hnu[:]=h*c/lam[:]*1.e9"
   ]
  },
  {
   "cell_type": "code",
   "execution_count": 9,
   "metadata": {
    "collapsed": true
   },
   "outputs": [],
   "source": [
    "for i in range(1440):\n",
    "    euvPHD[:,i]=euvDAY[:,i]/hnu[:]*1.e-4*1.e-9 # norm on 10^9 for GSM"
   ]
  },
  {
   "cell_type": "code",
   "execution_count": 10,
   "metadata": {
    "collapsed": false,
    "scrolled": true
   },
   "outputs": [
    {
     "data": {
      "text/plain": [
       "[<matplotlib.lines.Line2D at 0x7648be0>]"
      ]
     },
     "execution_count": 10,
     "metadata": {},
     "output_type": "execute_result"
    },
    {
     "data": {
      "image/png": "[encoded data removed]",
      "text/plain": [
       "<matplotlib.figure.Figure at 0x7690e80>"
      ]
     },
     "metadata": {},
     "output_type": "display_data"
    }
   ],
   "source": [
    "plot(euvDAY[:,60])"
   ]
  },
  {
   "cell_type": "code",
   "execution_count": 25,
   "metadata": {
    "collapsed": false
   },
   "outputs": [
    {
     "name": "stdout",
     "output_type": "stream",
     "text": [
      "[  1.30620000e-04   6.94760000e-03   5.15940000e-05   3.57560000e-05\n",
      "   2.74340000e-05]\n"
     ]
    }
   ],
   "source": [
    "print euvDAY[120:125,60]"
   ]
  },
  {
   "cell_type": "code",
   "execution_count": 12,
   "metadata": {
    "collapsed": false
   },
   "outputs": [
    {
     "name": "stdout",
     "output_type": "stream",
     "text": [
      "36\n"
     ]
    }
   ],
   "source": [
    "# new spektr \n",
    "lowB=zeros(36)\n",
    "highB=zeros(36)\n",
    "#bon=zeros(36)\n",
    "lowB= array([ 0,10,15,20,24,25,28,30,31,35,37,38,45,46,50,55,56,58,60,61,65,66,70,71,75,76,77,79,80,85,90,98,99,100,102,104])\n",
    "highB=array([10,15,20,24,25,28,30,30,35,37,37,45,45,50,55,55,58,60,61,65,65,70,70,75,76,77,79,80,85,90,95,98,100,102,103,105])\n",
    "#for i in range(36):\n",
    "#    bon[i]=(lowB[i]+highB[i])*.5\n",
    "bon=(lowB+highB)*.5\n",
    "print len(bon)\n"
   ]
  },
  {
   "cell_type": "code",
   "execution_count": 13,
   "metadata": {
    "collapsed": false
   },
   "outputs": [],
   "source": [
    "N=size(lowB)\n",
    "euvLOW=zeros(N)"
   ]
  },
  {
   "cell_type": "code",
   "execution_count": 14,
   "metadata": {
    "collapsed": false
   },
   "outputs": [
    {
     "name": "stdout",
     "output_type": "stream",
     "text": [
      "0 10 1.3455e-05 1.4656e-05 0.000399942\n",
      "10 15 1.4656e-05 4.3778e-05 5.27911e-05\n",
      "15 20 4.3778e-05 8.1932e-05 0.000602869\n",
      "20 24 8.1932e-05 3.6862e-05 0.00024776\n",
      "24 25 3.6862e-05 5.9107e-05 3.6862e-05\n",
      "25 28 5.9107e-05 0.00012904 0.000198209\n",
      "28 30 0.00012904 0.00033949 0.000220295\n",
      "30 30 0.00033949 0.00033949 0.00033949\n",
      "31 35 7.3525e-05 4.0458e-05 0.000227466\n",
      "35 37 4.0458e-05 1.538e-05 9.1323e-05\n",
      "37 37 1.538e-05 1.538e-05 1.538e-05\n",
      "38 45 8.4762e-06 5.8704e-06 5.17618e-05\n",
      "45 45 5.8704e-06 5.8704e-06 5.8704e-06\n",
      "46 50 1.4619e-05 1.5547e-05 4.69376e-05\n",
      "50 55 1.5547e-05 2.9027e-05 3.99978e-05\n",
      "55 55 2.9027e-05 2.9027e-05 2.9027e-05\n",
      "56 58 5.489e-06 3.6329e-05 1.0276e-05\n",
      "58 60 3.6329e-05 1.5081e-05 4.31924e-05\n",
      "60 61 1.5081e-05 1.1878e-05 1.5081e-05\n",
      "61 65 1.1878e-05 2.9968e-06 6.77472e-05\n",
      "65 65 2.9968e-06 2.9968e-06 2.9968e-06\n",
      "66 70 3.5934e-06 9.9367e-06 1.70514e-05\n",
      "70 70 9.9367e-06 9.9367e-06 9.9367e-06\n",
      "71 75 3.6467e-06 4.8613e-06 1.27293e-05\n",
      "75 76 4.8613e-06 1.2741e-05 4.8613e-06\n",
      "76 77 1.2741e-05 1.2105e-05 1.2741e-05\n",
      "77 79 1.2105e-05 1.0401e-05 2.7568e-05\n",
      "79 80 1.0401e-05 8.1579e-06 1.0401e-05\n",
      "80 85 8.1579e-06 1.6522e-05 6.40737e-05\n",
      "85 90 1.6522e-05 3.6064e-05 0.000113846\n",
      "90 95 3.6064e-05 7.204e-06 0.0001001086\n",
      "98 98 1.1611e-05 1.1611e-05 1.1611e-05\n",
      "99 100 1.6549e-05 7.6943e-06 1.6549e-05\n",
      "100 102 7.6943e-06 6.9566e-05 1.78733e-05\n",
      "102 103 6.9566e-05 6.67e-05 6.9566e-05\n",
      "104 105 1.2223e-05 1.1657e-05 1.2223e-05\n"
     ]
    }
   ],
   "source": [
    "for kh in range(36):\n",
    "    ikb=int(lowB[kh])\n",
    "    ikh=int(highB[kh])\n",
    "    if(ikb==ikh):\n",
    "        euvLOW[kh]=sum(euvDAY[ikb:ikh+1,0])\n",
    "    else:\n",
    "        euvLOW[kh]=sum(euvDAY[ikb:ikh,0])\n",
    "    print ikb,ikh,euvDAY[ikb,0],euvDAY[ikh,0],euvLOW[kh]"
   ]
  },
  {
   "cell_type": "code",
   "execution_count": 15,
   "metadata": {
    "collapsed": false
   },
   "outputs": [],
   "source": [
    "#i=0\n",
    "#ik=0\n",
    "#for kh in range(36):\n",
    "#    sum=0\n",
    "#    while ((highB[kh]>i) and (lowB[kh]<=i)):\n",
    "#        sum=sum+euvDAY[i,60]\n",
    "#        print highB[kh],i,ik\n",
    "#        if(highB[kh] != lowB[kh]):\n",
    "#            i=i+1\n",
    "#    \n",
    "#    ik=ik+1\n"
   ]
  },
  {
   "cell_type": "code",
   "execution_count": 16,
   "metadata": {
    "collapsed": false
   },
   "outputs": [
    {
     "data": {
      "text/plain": [
       "[<matplotlib.lines.Line2D at 0x7a3eeb8>]"
      ]
     },
     "execution_count": 16,
     "metadata": {},
     "output_type": "execute_result"
    },
    {
     "data": {
      "image/png": "[encoded data removed]",
      "text/plain": [
       "<matplotlib.figure.Figure at 0x7a3eef0>"
      ]
     },
     "metadata": {},
     "output_type": "display_data"
    }
   ],
   "source": [
    "plot (bon,euvLOW,'r+')\n",
    "plot(euvDAY[0:105,0]) "
   ]
  },
  {
   "cell_type": "code",
   "execution_count": 17,
   "metadata": {
    "collapsed": false
   },
   "outputs": [
    {
     "data": {
      "text/plain": [
       "<matplotlib.legend.Legend at 0x7da12e8>"
      ]
     },
     "execution_count": 17,
     "metadata": {},
     "output_type": "execute_result"
    },
    {
     "data": {
      "image/png": "[encoded data removed]",
      "text/plain": [
       "<matplotlib.figure.Figure at 0x779e6a0>"
      ]
     },
     "metadata": {},
     "output_type": "display_data"
    }
   ],
   "source": [
    "#plot in photon/cm2*s-1*10**9 \n",
    "#plot(euvPHD[0:105,1160]) \n",
    "subplot(211)\n",
    "\n",
    "plot(euvDAY[0:40,1050],label='energy before')\n",
    "plot(euvDAY[0:40,1060],label='energy max')\n",
    "legend()\n",
    "subplot(212)\n",
    "plot(euvPHD[0:40,1050],label='photon before')\n",
    "plot(euvPHD[0:40,1060],label='photon max')\n",
    "xlabel('$\\lambda$, nm')\n",
    "legend()"
   ]
  },
  {
   "cell_type": "code",
   "execution_count": 18,
   "metadata": {
    "collapsed": false
   },
   "outputs": [],
   "source": [
    "sumFLUX=zeros(1440)\n",
    "sumPHOT=zeros(1440)\n",
    "for i in range(1440):\n",
    "    sumFLUX[i]= sum(euvDAY[0:105,i]) \n",
    "    sumPHOT[i]= sum(euvPHD[0:105,i])\n"
   ]
  },
  {
   "cell_type": "code",
   "execution_count": 19,
   "metadata": {
    "collapsed": false
   },
   "outputs": [
    {
     "data": {
      "text/plain": [
       "<matplotlib.text.Text at 0x89cdb38>"
      ]
     },
     "execution_count": 19,
     "metadata": {},
     "output_type": "execute_result"
    },
    {
     "data": {
      "image/png": "[encoded data removed]",
      "text/plain": [
       "<matplotlib.figure.Figure at 0x7a076d8>"
      ]
     },
     "metadata": {},
     "output_type": "display_data"
    }
   ],
   "source": [
    "subplot(211)\n",
    "plot(sumFLUX[1050:1100])\n",
    "subplot(212)\n",
    "plot(sumPHOT[1050:1100])\n",
    "xlabel('time,min')"
   ]
  },
  {
   "cell_type": "code",
   "execution_count": 20,
   "metadata": {
    "collapsed": false
   },
   "outputs": [
    {
     "data": {
      "text/plain": [
       "0.0032464144000000001"
      ]
     },
     "execution_count": 20,
     "metadata": {},
     "output_type": "execute_result"
    }
   ],
   "source": [
    "sum(euvLOW)"
   ]
  },
  {
   "cell_type": "code",
   "execution_count": null,
   "metadata": {
    "collapsed": true
   },
   "outputs": [],
   "source": []
  }
 ],
 "metadata": {
  "kernelspec": {
   "display_name": "Python 2",
   "language": "python",
   "name": "python2"
  },
  "language_info": {
   "codemirror_mode": {
    "name": "ipython",
    "version": 2
   },
   "file_extension": ".py",
   "mimetype": "text/x-python",
   "name": "python",
   "nbconvert_exporter": "python",
   "pygments_lexer": "ipython2",
   "version": "2.7.13"
  }
 },
 "nbformat": 4,
 "nbformat_minor": 2
}
