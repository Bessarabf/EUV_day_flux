{
 "cells": [
  {
   "cell_type": "code",
   "execution_count": 202,
   "metadata": {},
   "outputs": [
    {
     "name": "stdout",
     "output_type": "stream",
     "text": [
      "Populating the interactive namespace from numpy and matplotlib\n"
     ]
    }
   ],
   "source": [
    "import numpy\n",
    "import matplotlib\n",
    "%pylab inline"
   ]
  },
  {
   "cell_type": "markdown",
   "metadata": {},
   "source": [
    "### Open and read file with solar flux data"
   ]
  },
  {
   "cell_type": "code",
   "execution_count": 203,
   "metadata": {},
   "outputs": [],
   "source": [
    "#open file\n",
    "doy=250\n",
    "fname=\"ssi_\"+str(doy)+'_2005.dat'\n",
    "euv=zeros(190)\n",
    "euvDAY=zeros(190*1440).reshape(190,1440) # flux in energy\n",
    "euvPHD=zeros(190*1440).reshape(190,1440) # flux in phot\n",
    "tmp=zeros(190)"
   ]
  },
  {
   "cell_type": "code",
   "execution_count": 204,
   "metadata": {},
   "outputs": [],
   "source": [
    "fil=open(fname,\"r\")\n",
    "for i in range(3):\n",
    "       fil.readline()\n",
    "j=0\n",
    "while(1):\n",
    "        try:\n",
    "            minut=int(fil.readline())\n",
    "           # print minut\n",
    "        except:\n",
    "            break\n",
    "        euvL=(fil.readline().split())\n",
    "        for i in range(190):\n",
    "            euv[i]=float(euvL[i])\n",
    "        euvDAY[:,j]=euv[:]\n",
    "        j=j+1\n",
    "        \n",
    "fil.close()   "
   ]
  },
  {
   "cell_type": "markdown",
   "metadata": {},
   "source": [
    "### Solar flux in photon\n",
    "$E_o=h\\nu = hc/\\lambda$ - photon energy  \n",
    "$I=E/{h\\nu}$ - photon flux"
   ]
  },
  {
   "cell_type": "code",
   "execution_count": 205,
   "metadata": {},
   "outputs": [],
   "source": [
    "lam=arange(1,191)\n",
    "hnu=zeros(190)\n",
    "h = 6.626e-34 #  Plank constant Joul*s\n",
    "c=3.e8 # m/s \n",
    "hnu[:]=h*c/lam[:]*1.e9"
   ]
  },
  {
   "cell_type": "code",
   "execution_count": 206,
   "metadata": {
    "collapsed": true
   },
   "outputs": [],
   "source": [
    "# solar flux in phot\n",
    "for i in range(1440):\n",
    "    euvPHD[:,i]=euvDAY[:,i]/hnu[:]*1.e-4*1.e-9 # norm on 10^9 for GSM"
   ]
  },
  {
   "cell_type": "code",
   "execution_count": 207,
   "metadata": {},
   "outputs": [],
   "source": [
    "\n",
    "massTMP=zeros(3*190).reshape(190,3)\n",
    "massTMP[:,0]=lam[:]\n",
    "massTMP[:,1]=euvDAY[:,0]\n",
    "massTMP[:,2]=euvPHD[:,0]\n",
    "savetxt(\"tmpspectr.txt\",massTMP,delimiter='  ',fmt='%.6g')"
   ]
  },
  {
   "cell_type": "code",
   "execution_count": 208,
   "metadata": {},
   "outputs": [
    {
     "name": "stdout",
     "output_type": "stream",
     "text": [
      "[  1.   2.   3.   4.   5.   6.   7.   8.   9.  10.  11.  12.  13.  14.  15.\n",
      "  16.  17.  18.  19.  20.  21.  22.  23.  24.  25.  26.  27.  28.  29.  30.\n",
      "  31.  32.  33.  34.  35.  36.  37.] [   50.     100.     150.     200.     256.32   284.15   250.     303.31\n",
      "   303.78   300.     368.07   350.     400.     465.22   450.     500.\n",
      "   554.37   584.33   550.     609.76   629.73   600.     650.     703.36\n",
      "   700.     765.15   770.41   789.36   750.     800.     850.     900.\n",
      "   977.02   950.    1025.72  1031.91  1000.  ]\n"
     ]
    }
   ],
   "source": [
    "#read new spectr\n",
    "mSP=loadtxt('spectr.dat',skiprows=3)\n",
    "N=len(mSP[:,0])\n",
    "print mSP[:,0],mSP[:,1]"
   ]
  },
  {
   "cell_type": "markdown",
   "metadata": {},
   "source": [
    "### Standard spectr interval for EUV model (36 intervals)"
   ]
  },
  {
   "cell_type": "code",
   "execution_count": 209,
   "metadata": {},
   "outputs": [
    {
     "name": "stdout",
     "output_type": "stream",
     "text": [
      "[   0   50  100  150  200  256  284  250  303  303  300  368  350  400  465\n",
      "  450  500  554  584  550  609  629  600  650  703  700  765  770  789  750\n",
      "  800  850  900  977  950 1025 1031 1000]\n"
     ]
    }
   ],
   "source": [
    "#low and high boundary intervals in angstrom\n",
    "lowB=zeros(N+1).astype(int)\n",
    "highB=zeros(N+1).astype(int)\n",
    "bon=zeros(N+1)\n",
    "highB[0]=50\n",
    "for i in range(1,N+1):\n",
    "    lowB[i]=int(mSP[i-1,1])\n",
    "    highB[i]=int(mSP[i-1,2])\n",
    "print lowB\n",
    "bon=(lowB+highB)*.5"
   ]
  },
  {
   "cell_type": "markdown",
   "metadata": {},
   "source": [
    "### Combine two spectral lines (303 A)"
   ]
  },
  {
   "cell_type": "code",
   "execution_count": 210,
   "metadata": {},
   "outputs": [
    {
     "name": "stdout",
     "output_type": "stream",
     "text": [
      "[   0   50  100  150  200  256  284  250  303  300  368  350  400  465  450\n",
      "  500  554  584  550  609  629  600  650  703  700  765  770  789  750  800\n",
      "  850  900  977  950 1025 1031 1000 1000]\n",
      "[  5  10  15  20  25  26  28  30  31  35  37  40  45  47  50  55  56  58\n",
      "  60  61  63  65  70  70  75  77  78  79  80  85  90  95  98 100 104 103\n",
      " 105 121]\n",
      "[  0   5  10  15  20  26  28  25  31  30  37  35  40  47  45  50  56  58\n",
      "  55  61  63  60  65  70  70  77  78  79  75  80  85  90  98  95 104 103\n",
      " 100 121]\n"
     ]
    }
   ],
   "source": [
    "lowB[8:-1]=lowB[9:]\n",
    "\n",
    "print lowB\n",
    "highB[8:-1]=highB[9:]\n",
    "# Last line - Laymann alpha\n",
    "lowB[N]=1210\n",
    "highB[N]=1210\n",
    "highB10=zeros(N+1).astype(int)\n",
    "lowB10=zeros(N+1).astype(int)\n",
    "for i in range(N+1):\n",
    "    highB10[i]=int((highB[i])/10.+0.5)\n",
    "    lowB10[i]=int((lowB[i])/10.+0.5)\n",
    "highB10[8]=31\n",
    "lowB10[8]=31\n",
    "highB10[16]=56\n",
    "lowB10[16]=56\n",
    "highB10[26]=78\n",
    "lowB10[26]=78\n",
    "highB10[26]=78\n",
    "lowB10[26]=78\n",
    "highB10[34]=104\n",
    "lowB10[34]=104\n",
    "\n",
    "print highB10\n",
    "print lowB10"
   ]
  },
  {
   "cell_type": "code",
   "execution_count": 211,
   "metadata": {},
   "outputs": [
    {
     "name": "stdout",
     "output_type": "stream",
     "text": [
      "5 26 0.77310695241\n",
      "6 28 1.59311801992\n",
      "8 31 5.29439078378\n",
      "10 37 0.946777844854\n",
      "13 47 0.345654995472\n",
      "16 56 0.817744239863\n",
      "17 58 0.139675017607\n",
      "19 61 0.462793540598\n",
      "20 63 0.940721400543\n",
      "23 70 0.156617869001\n",
      "25 77 0.493539088439\n",
      "26 78 0.474992453969\n",
      "27 79 0.614537176778\n",
      "32 98 3.89367340779\n",
      "34 104 3.48968709126\n",
      "35 103 3.60463728745\n",
      "37 121 7.95648958648\n"
     ]
    }
   ],
   "source": [
    "euvLine=zeros(N+1)\n",
    "euvLOW=zeros(N+1)\n",
    "mNAN=zeros(N+1).astype(int)\n",
    "#cycle for lambda\n",
    "#search i where lowB=highB\n",
    "k=0\n",
    "for i in range(N+1):\n",
    "    if(lowB10[i]==highB10[i]):\n",
    "        mNAN[k]=i\n",
    "        print mNAN[k],highB10[i],euvPHD[lam[highB10[i]-2],0]\n",
    "        k=k+1\n",
    "        "
   ]
  },
  {
   "cell_type": "code",
   "execution_count": 212,
   "metadata": {
    "collapsed": true
   },
   "outputs": [],
   "source": [
    "### Fill lines only (if highB=lowB)"
   ]
  },
  {
   "cell_type": "code",
   "execution_count": 213,
   "metadata": {},
   "outputs": [
    {
     "name": "stdout",
     "output_type": "stream",
     "text": [
      "0.463602978167 25\n",
      "0.35318140658 27\n",
      "1.37722607908 30\n",
      "0.732713552671 36\n",
      "0.135847872019 46\n",
      "0.118311701378 55\n",
      "0.157396619378 57\n",
      "0.207165710836 60\n",
      "0.370477915283 62\n",
      "0.212866284334 69\n",
      "0.185863165308 76\n",
      "0.493539088439 77\n",
      "0.474992453969 78\n",
      "0.269475349633 97\n",
      "3.60463728745 103\n",
      "0.522315122246 102\n",
      "2.85239963779 120\n",
      "3.89367340779\n"
     ]
    }
   ],
   "source": [
    "k=0\n",
    "i=int(mNAN[k])\n",
    "tmp[:]=euvPHD[:,1]\n",
    "#for kh in range(1,190):\n",
    "#    #print int((highB[i]))\n",
    "#    if(int((highB[i])/10.+0.5)==kh):\n",
    "#        euvLine[i]=euvPHD[kh,0]\n",
    "#        tmp[kh]=nan\n",
    "#        k=k+1\n",
    "#        print i,int((highB[i])/10.+0.5),k,euvDAY[kh,0]\n",
    "#        i=int(mNAN[k])\n",
    "#print mNAN\n",
    "k=0\n",
    "while(mNAN[k]>0):\n",
    "#    kh=int((highB[mNAN[k]])/10.+0.45)\n",
    "    kh=(highB10[mNAN[k]])\n",
    "    euvLine[mNAN[k]]=euvPHD[kh-2,0]\n",
    "    tmp[kh-2]=nan\n",
    "    print euvLine[mNAN[k]],lam[kh-2 ]\n",
    "    k=k+1\n",
    "#    print euvLine,highB\n",
    "euvLine[34]=euvPHD[97,0]   \n",
    "print euvLine[34]\n",
    "tmp[97]=nan"
   ]
  },
  {
   "cell_type": "raw",
   "metadata": {},
   "source": [
    "[ 5  6  8 10 13 16 17 19 20 23 25 26 27 32 34 35 37  0  0  0  0  0  0  0  0\n",
    "  0  0  0  0  0  0  0  0  0  0  0  0  0]"
   ]
  },
  {
   "cell_type": "code",
   "execution_count": 226,
   "metadata": {},
   "outputs": [
    {
     "name": "stdout",
     "output_type": "stream",
     "text": [
      "0 5 0 [ 0.00681356  0.13857531  0.05872019  0.04039239  0.10270903] 0.347210483952\n",
      "5 10 1 [ 0.10584968  0.16888671  0.10553979  0.08652279  0.10748063] 0.574279605594\n",
      "10 15 2 [ 0.0812134   0.07169333  0.04997721  0.0843606   0.05049879] 0.337743334339\n",
      "15 20 3 [ 0.35251031  0.75737147  2.04901902  1.44034108  0.94572895] 5.54497082201\n",
      "20 25 4 [ 0.86568216  0.9442137   0.59497082  0.3515243          nan] 2.75639098501\n",
      "25 30 7 [ 0.79221652         nan  1.59438575  1.88402254         nan] 4.27062481135\n",
      "30 35 9 [ 5.3023443   1.18629238  0.7175732   1.04155146  0.8795251 ] 9.12728644733\n",
      "35 40 11 [        nan  0.94687091  0.2944914   0.16648083  0.11896167] 1.52680480934\n",
      "40 45 12 [ 0.15985009  0.1550818   0.11995352  0.22256766  0.15237247] 0.809825535768\n",
      "45 50 14 [        nan  0.34617517  0.16824389  0.26045578  0.37330214] 1.14817697958\n",
      "50 55 15 [ 0.39967703  0.16630164  0.1894994   0.18300724         nan] 0.938485310393\n",
      "55 60 18 [ 0.82013885         nan  0.14029651  1.07935154         nan] 2.03978690009\n",
      "60 65 21 [ 0.46460408         nan  0.94385904  0.74003421  0.10752893] 2.25602626019\n",
      "65 70 22 [ 0.10010896  0.12157274  0.09870228         nan  0.15743837] 0.477822366435\n",
      "70 75 24 [ 0.35750025  0.13269906  0.11753889  0.08982151  0.13288938] 0.830449089446\n",
      "75 80 28 [        nan         nan         nan  0.61986266  0.42221551] 1.04207817688\n",
      "80 85 29 [ 0.33456203  0.35526321  0.42794396  0.98625415  0.60720394] 2.71122728645\n",
      "85 90 30 [ 0.71908945  0.83135376  1.00497434  1.18263709  1.35860248] 5.09665710836\n",
      "90 95 31 [ 1.6644421   1.43651072  0.55922578  0.58108059  0.44445166] 4.6857108361\n",
      "95 100 33 [ 0.35083127         nan         nan  0.59146997  0.84882785] 1.79112908743\n",
      "100 105 36 [ 0.39392439         nan         nan  3.55670792  0.65113945] 4.60177175772\n"
     ]
    }
   ],
   "source": [
    "#euvLOW[0]=nansum(tmp[:6])\n",
    "for kh in range(0,N+1):\n",
    "    ikb=lowB10[kh]   #int(lowB[kh]/10.+0.45)\n",
    "    ikh=highB10[kh]  #int((highB[kh])/10.+0.45)\n",
    "    #print ikb,ikh,'_____'\n",
    "    if(ikb!=ikh):\n",
    "        euvLOW[kh]=nansum(tmp[ikb:ikh])\n",
    "        print ikb,ikh,kh,tmp[ikb:ikh],euvLOW[kh]\n"
   ]
  },
  {
   "cell_type": "code",
   "execution_count": 215,
   "metadata": {},
   "outputs": [],
   "source": [
    "#for kh in range(N+1):\n",
    "#    ikb=int(lowB[kh]/10)\n",
    "#    ikh=int(highB[kh]/10)\n",
    "#    if(ikb!=ikh):\n",
    "#        euvLOW[kh]=nansum(tmp[ikb+1:ikh+1])\n",
    "        #print ikb,ikh,kh,tmp[ikb:ikh],euvLOW[kh]"
   ]
  },
  {
   "cell_type": "code",
   "execution_count": 227,
   "metadata": {},
   "outputs": [
    {
     "name": "stdout",
     "output_type": "stream",
     "text": [
      "0.347210483952 0.0 5\n",
      "0.574279605594 0.0 10\n",
      "0.337743334339 0.0 15\n",
      "5.54497082201 0.0 20\n",
      "2.75639098501 0.0 25\n",
      "0.0 0.463602978167 26\n",
      "0.0 0.35318140658 28\n",
      "4.27062481135 0.0 30\n",
      "0.0 1.37722607908 31\n",
      "9.12728644733 0.0 35\n",
      "0.0 0.732713552671 37\n",
      "1.52680480934 0.0 40\n",
      "0.809825535768 0.0 45\n",
      "0.0 0.135847872019 47\n",
      "1.14817697958 0.0 50\n",
      "0.938485310393 0.0 55\n",
      "0.0 0.118311701378 56\n",
      "0.0 0.157396619378 58\n",
      "2.03978690009 0.0 60\n",
      "0.0 0.207165710836 61\n",
      "0.0 0.370477915283 63\n",
      "2.25602626019 0.0 65\n",
      "0.477822366435 0.0 70\n",
      "0.0 0.212866284334 70\n",
      "0.830449089446 0.0 75\n",
      "0.0 0.185863165308 77\n",
      "0.0 0.493539088439 78\n",
      "0.0 0.474992453969 79\n",
      "1.04207817688 0.0 80\n",
      "2.71122728645 0.0 85\n",
      "5.09665710836 0.0 90\n",
      "4.6857108361 0.0 95\n",
      "0.0 0.269475349633 98\n",
      "1.79112908743 0.0 100\n",
      "0.0 3.89367340779 104\n",
      "0.0 0.522315122246 103\n",
      "4.60177175772 0.0 105\n",
      "0.0 2.85239963779 121\n"
     ]
    }
   ],
   "source": [
    "for i in range(N+1):\n",
    "    print euvLOW[i], euvLine[i],highB10[i]"
   ]
  },
  {
   "cell_type": "code",
   "execution_count": 217,
   "metadata": {},
   "outputs": [
    {
     "data": {
      "text/plain": [
       "[<matplotlib.lines.Line2D at 0xcd0e630>]"
      ]
     },
     "execution_count": 217,
     "metadata": {},
     "output_type": "execute_result"
    },
    {
     "data": {
      "image/png": "[encoded data removed]",
      "text/plain": [
       "<matplotlib.figure.Figure at 0xcbcf3b0>"
      ]
     },
     "metadata": {},
     "output_type": "display_data"
    }
   ],
   "source": [
    "k=0\n",
    "tmp1=zeros(N+1)\n",
    "lamTMP=zeros(N+1).astype(int)\n",
    "for i in range(0,105,5):\n",
    "    tmp1[k]=sum(euvPHD[i:i+5,0])\n",
    "    lamTMP[k]=i+4\n",
    "#print i,euvPHD[i:i+5,1],k\n",
    "    k=k+1\n",
    "plot(lamTMP[:21],tmp1[:21])"
   ]
  },
  {
   "cell_type": "code",
   "execution_count": 218,
   "metadata": {},
   "outputs": [
    {
     "data": {
      "text/plain": [
       "([<matplotlib.axis.XTick at 0xcd4adf0>,\n",
       "  <matplotlib.axis.XTick at 0xcd3ec10>,\n",
       "  <matplotlib.axis.XTick at 0xcd3e8f0>,\n",
       "  <matplotlib.axis.XTick at 0xcd34730>,\n",
       "  <matplotlib.axis.XTick at 0xcdf6210>,\n",
       "  <matplotlib.axis.XTick at 0xcd0ecf0>,\n",
       "  <matplotlib.axis.XTick at 0xceccc10>,\n",
       "  <matplotlib.axis.XTick at 0xceccf90>,\n",
       "  <matplotlib.axis.XTick at 0xcede330>,\n",
       "  <matplotlib.axis.XTick at 0xcede6b0>,\n",
       "  <matplotlib.axis.XTick at 0xcedea30>],\n",
       " <a list of 11 Text xticklabel objects>)"
      ]
     },
     "execution_count": 218,
     "metadata": {},
     "output_type": "execute_result"
    },
    {
     "data": {
      "image/png": "[encoded data removed]",
      "text/plain": [
       "<matplotlib.figure.Figure at 0xcd1c490>"
      ]
     },
     "metadata": {},
     "output_type": "display_data"
    }
   ],
   "source": [
    "subplot(211)\n",
    "plot(highB[:-1]/10,euvLOW[:-1]+euvLine[:-1],'+-r')\n",
    "#plot(euvPHD[:105,1])\n",
    "xlim([0,110])\n",
    "ylim([0,8])\n",
    "xticks(arange(0,110,10))\n",
    "subplot(212)\n",
    "plot(euvPHD[:105,1])\n",
    "xlim([0,110])\n",
    "xticks(arange(0,110,10))"
   ]
  },
  {
   "cell_type": "code",
   "execution_count": 219,
   "metadata": {},
   "outputs": [
    {
     "name": "stdout",
     "output_type": "stream",
     "text": [
      "63.5014787705 67.2792953013 66.2047106349\n"
     ]
    }
   ],
   "source": [
    "print sum(euvLOW[:-1]+euvLine[:-1]),sum(euvPHD[:106,1]),sum(tmp1[:])"
   ]
  },
  {
   "cell_type": "code",
   "execution_count": 220,
   "metadata": {},
   "outputs": [],
   "source": [
    "#i=0\n",
    "#ik=0\n",
    "#for kh in range(36):\n",
    "#    sum=0\n",
    "#    while ((highB[kh]>i) and (lowB[kh]<=i)):\n",
    "#        sum=sum+euvDAY[i,60]\n",
    "#        print highB[kh],i,ik\n",
    "#        if(highB[kh] != lowB[kh]):\n",
    "#            i=i+1\n",
    "#    \n",
    "#    ik=ik+1\n"
   ]
  },
  {
   "cell_type": "code",
   "execution_count": null,
   "metadata": {},
   "outputs": [],
   "source": []
  },
  {
   "cell_type": "code",
   "execution_count": 221,
   "metadata": {},
   "outputs": [
    {
     "data": {
      "text/plain": [
       "[<matplotlib.lines.Line2D at 0xcfeca70>]"
      ]
     },
     "execution_count": 221,
     "metadata": {},
     "output_type": "execute_result"
    },
    {
     "data": {
      "image/png": "[encoded data removed]",
      "text/plain": [
       "<matplotlib.figure.Figure at 0xc58b5f0>"
      ]
     },
     "metadata": {},
     "output_type": "display_data"
    }
   ],
   "source": [
    "plot (bon,euvLOW,'r+')\n",
    "#plot(euvDAY[0:105,0]) "
   ]
  },
  {
   "cell_type": "code",
   "execution_count": 222,
   "metadata": {},
   "outputs": [
    {
     "data": {
      "text/plain": [
       "<matplotlib.legend.Legend at 0xd242690>"
      ]
     },
     "execution_count": 222,
     "metadata": {},
     "output_type": "execute_result"
    },
    {
     "data": {
      "image/png": "[encoded data removed]",
      "text/plain": [
       "<matplotlib.figure.Figure at 0xcff95d0>"
      ]
     },
     "metadata": {},
     "output_type": "display_data"
    }
   ],
   "source": [
    "#plot in photon/cm2*s-1*10**9 \n",
    "#plot(euvPHD[0:105,1160]) \n",
    "subplot(211)\n",
    "\n",
    "plot(euvDAY[0:40,1050],label='energy before')\n",
    "plot(euvDAY[0:40,1060],label='energy max')\n",
    "legend()\n",
    "subplot(212)\n",
    "plot(euvPHD[0:40,1050],label='photon before')\n",
    "plot(euvPHD[0:40,1060],label='photon max')\n",
    "xlabel('$\\lambda$, nm')\n",
    "legend()"
   ]
  },
  {
   "cell_type": "code",
   "execution_count": 223,
   "metadata": {},
   "outputs": [],
   "source": [
    "sumFLUX=zeros(1440)\n",
    "sumPHOT=zeros(1440)\n",
    "for i in range(1440):\n",
    "    sumFLUX[i]= sum(euvDAY[0:105,i]) \n",
    "    sumPHOT[i]= sum(euvPHD[0:105,i])\n"
   ]
  },
  {
   "cell_type": "code",
   "execution_count": 224,
   "metadata": {},
   "outputs": [
    {
     "data": {
      "text/plain": [
       "<matplotlib.text.Text at 0xd291ef0>"
      ]
     },
     "execution_count": 224,
     "metadata": {},
     "output_type": "execute_result"
    },
    {
     "data": {
      "image/png": "[encoded data removed]",
      "text/plain": [
       "<matplotlib.figure.Figure at 0xcdebab0>"
      ]
     },
     "metadata": {},
     "output_type": "display_data"
    }
   ],
   "source": [
    "subplot(211)\n",
    "plot(sumFLUX[1050:1100])\n",
    "subplot(212)\n",
    "plot(sumPHOT[1050:1100])\n",
    "xlabel('time,min')"
   ]
  },
  {
   "cell_type": "code",
   "execution_count": 225,
   "metadata": {},
   "outputs": [
    {
     "data": {
      "text/plain": [
       "53.532830063386662"
      ]
     },
     "execution_count": 225,
     "metadata": {},
     "output_type": "execute_result"
    }
   ],
   "source": [
    "sum(euvLOW)"
   ]
  },
  {
   "cell_type": "code",
   "execution_count": null,
   "metadata": {
    "collapsed": true
   },
   "outputs": [],
   "source": []
  }
 ],
 "metadata": {
  "kernelspec": {
   "display_name": "Python 2",
   "language": "python",
   "name": "python2"
  },
  "language_info": {
   "codemirror_mode": {
    "name": "ipython",
    "version": 2
   },
   "file_extension": ".py",
   "mimetype": "text/x-python",
   "name": "python",
   "nbconvert_exporter": "python",
   "pygments_lexer": "ipython2",
   "version": "2.7.13"
  }
 },
 "nbformat": 4,
 "nbformat_minor": 2
}
