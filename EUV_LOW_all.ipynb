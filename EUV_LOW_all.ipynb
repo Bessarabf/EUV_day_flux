{
 "cells": [
  {
   "cell_type": "code",
   "execution_count": 89,
   "metadata": {},
   "outputs": [
    {
     "name": "stdout",
     "output_type": "stream",
     "text": [
      "Populating the interactive namespace from numpy and matplotlib\n"
     ]
    }
   ],
   "source": [
    "import numpy\n",
    "import matplotlib\n",
    "%pylab inline"
   ]
  },
  {
   "cell_type": "code",
   "execution_count": 90,
   "metadata": {
    "collapsed": true
   },
   "outputs": [],
   "source": [
    "# hnu \n",
    "lam=arange(1,191)\n",
    "hnu=zeros(190)\n",
    "h = 6.626e-34 #  Plank constant Joul*s\n",
    "c=3.e8 # m/s \n",
    "hnu[:]=h*c/lam[:]*1.e9"
   ]
  },
  {
   "cell_type": "markdown",
   "metadata": {},
   "source": [
    "### Reading and prepare row data"
   ]
  },
  {
   "cell_type": "code",
   "execution_count": 91,
   "metadata": {
    "collapsed": true
   },
   "outputs": [],
   "source": [
    "# open file with EUV data\n",
    "doy=250\n",
    "fname=\"ssi_\"+str(doy)+'_2005.dat'\n",
    "euv=zeros(190)\n",
    "euvDAY=zeros(190*1440).reshape(190,1440) # flux in energy\n",
    "euvPHD=zeros(190*1440).reshape(190,1440) # flux in phot\n",
    "tmp=zeros(190)"
   ]
  },
  {
   "cell_type": "code",
   "execution_count": 92,
   "metadata": {
    "collapsed": true
   },
   "outputs": [],
   "source": [
    "fil=open(fname,\"r\")\n",
    "for i in range(3):\n",
    "       fil.readline()\n",
    "j=0\n",
    "while(1):\n",
    "        try:\n",
    "            minut=int(fil.readline())\n",
    "           # print minut\n",
    "        except:\n",
    "            break\n",
    "        euvL=(fil.readline().split())\n",
    "        for i in range(190):\n",
    "            euv[i]=float(euvL[i])\n",
    "        euvDAY[:,j]=euv[:]\n",
    "        j=j+1\n",
    "        \n",
    "fil.close()   \n",
    "# solar flux in phot\n",
    "for i in range(1440):\n",
    "    euvPHD[:,i]=euvDAY[:,i]/hnu[:]*1.e-4*1.e-9 # norm on 10^9 for \n",
    "nD=len(euvDAY[:,0])"
   ]
  },
  {
   "cell_type": "code",
   "execution_count": 93,
   "metadata": {
    "collapsed": true
   },
   "outputs": [],
   "source": [
    "#read low resolution spectr\n",
    "mSP=loadtxt('spectr.dat',skiprows=3)\n",
    "N=len(mSP[:,0])\n",
    "#print mSP[:,0],mSP[:,1]\n",
    "\n",
    "#low and high boundary intervals in angstrom\n",
    "lowB=zeros(N+1).astype(int)\n",
    "highB=zeros(N+1).astype(int)\n",
    "# intervals in nanometers\n",
    "highB10=zeros(N+1).astype(int)\n",
    "lowB10=zeros(N+1).astype(int)\n",
    "bon=zeros(N+1)\n",
    "highB[0]=50\n",
    "for i in range(1,N+1):\n",
    "    lowB[i]=int(mSP[i-1,1])\n",
    "    highB[i]=int(mSP[i-1,2])\n",
    "bon=(lowB+highB)*.5\n",
    "\n",
    "#Combine two spectral line (303 A)\n",
    "lowB[8:-1]=lowB[9:]\n",
    "\n",
    "highB[8:-1]=highB[9:]\n",
    "# Last line - Laymann alpha\n",
    "lowB[N]=1220\n",
    "highB[N]=1220\n",
    "\n",
    "highB10[0]=int((highB[0])/10.+0.5)\n",
    "lowB10[0]=int((lowB[0])/10.+0.5)\n",
    "for i in range(N+1):\n",
    "    highB10[i]=int((highB[i])/10.+0.5)\n",
    "    lowB10[i]=int((lowB[i])/10.+0.5)\n",
    "    if(highB10[i]==highB10[i-1]):\n",
    "        highB10[i]=highB10[i]+1\n",
    "        lowB10[i]=highB10[i]\n",
    "#print lowB10\n",
    "#print highB10"
   ]
  },
  {
   "cell_type": "markdown",
   "metadata": {},
   "source": [
    "### Form low resolution massive"
   ]
  },
  {
   "cell_type": "code",
   "execution_count": 94,
   "metadata": {
    "collapsed": true
   },
   "outputs": [],
   "source": [
    "euvLine=zeros((N+1)*1440).reshape(1440,N+1)\n",
    "euvLOW=zeros((N+1)*1440).reshape(1440,N+1)\n",
    "euv_all=zeros((N+1)*1440).reshape(1440,N+1)\n",
    "mNAN=zeros(N+1).astype(int)\n",
    "#cycle for lambda\n",
    "#search i where lowB=highB\n",
    "k=0\n",
    "for i in range(N+1):\n",
    "    if(lowB10[i]==highB10[i]):\n",
    "        mNAN[k]=i\n",
    "       # print mNAN[k],highB10[mNAN[k]]\n",
    "        k=k+1\n"
   ]
  },
  {
   "cell_type": "markdown",
   "metadata": {},
   "source": [
    "### Form 2D massive"
   ]
  },
  {
   "cell_type": "code",
   "execution_count": 95,
   "metadata": {},
   "outputs": [],
   "source": [
    "for li in range(1440):\n",
    "    k=0\n",
    "    i=int(mNAN[k])\n",
    "    tmp[:]=euvPHD[:,li]\n",
    "    for kh in range(0,nD):\n",
    "        #print int((highB[i]))\n",
    "        if(highB10[i]==kh):\n",
    "            euvLine[li,i]=euvPHD[kh-1,li]\n",
    "            tmp[kh-1]=nan\n",
    "            k=k+1\n",
    "            #print i,highB10[i],k-1,kh,euvPHD[kh-1,0],euvLine[i]\n",
    "            i=int(mNAN[k])\n",
    "    euvLOW[li,0]=nansum(tmp[0:6])\n",
    "    for kh in range(1,N+1):\n",
    "        ikb=lowB10[kh]\n",
    "        ikh=highB10[kh]\n",
    "        #print ikb,ikh,'_____'\n",
    "        if(ikb!=ikh):\n",
    "            euvLOW[li,kh]=nansum(tmp[ikb:ikh])\n",
    "    euv_all[li,:]=euvLOW[li,:]+euvLine[li,:]"
   ]
  },
  {
   "cell_type": "code",
   "execution_count": 96,
   "metadata": {},
   "outputs": [],
   "source": [
    "savetxt(\"euv\"+str(doy)+\".dat\",euv_all,fmt=\"%6.2e\")"
   ]
  },
  {
   "cell_type": "code",
   "execution_count": 97,
   "metadata": {},
   "outputs": [
    {
     "data": {
      "image/png": "[encoded data removed]",
      "text/plain": [
       "<matplotlib.figure.Figure at 0x8211090>"
      ]
     },
     "metadata": {},
     "output_type": "display_data"
    }
   ],
   "source": [
    "for i in range(140):\n",
    "    plot(euv_all[i,:-1])\n"
   ]
  },
  {
   "cell_type": "code",
   "execution_count": null,
   "metadata": {
    "collapsed": true
   },
   "outputs": [],
   "source": []
  }
 ],
 "metadata": {
  "kernelspec": {
   "display_name": "Python 2",
   "language": "python",
   "name": "python2"
  },
  "language_info": {
   "codemirror_mode": {
    "name": "ipython",
    "version": 2
   },
   "file_extension": ".py",
   "mimetype": "text/x-python",
   "name": "python",
   "nbconvert_exporter": "python",
   "pygments_lexer": "ipython2",
   "version": "2.7.13"
  }
 },
 "nbformat": 4,
 "nbformat_minor": 2
}
